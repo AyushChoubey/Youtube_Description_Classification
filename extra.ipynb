{
 "cells": [
  {
   "cell_type": "code",
   "execution_count": null,
   "metadata": {},
   "outputs": [],
   "source": []
  },
  {
   "cell_type": "code",
   "execution_count": 2,
   "metadata": {},
   "outputs": [],
   "source": [
    "from selenium import webdriver\n",
    "import pandas as pd\n",
    "from selenium.webdriver.common.by import By\n",
    "from selenium.webdriver.support.ui import WebDriverWait\n",
    "from selenium.webdriver.support import expected_conditions as EC"
   ]
  },
  {
   "cell_type": "code",
   "execution_count": 73,
   "metadata": {},
   "outputs": [],
   "source": [
    "driver = webdriver.Chrome() \n",
    "driver.get(\"https://www.youtube.com/results?search_query=manufacturing+process&sp=EgIQAQ%253D%253D\")"
   ]
  },
  {
   "cell_type": "code",
   "execution_count": 74,
   "metadata": {},
   "outputs": [
    {
     "name": "stdout",
     "output_type": "stream",
     "text": [
      "601\n",
      "https://www.youtube.com/watch?v=uuN6zU3ePG0\n"
     ]
    }
   ],
   "source": [
    "user_data = driver.find_elements_by_xpath('//*[@id=\"video-title\"]')\n",
    "links = []\n",
    "for i in user_data:\n",
    "      if(i.get_attribute('href')!=None):\n",
    "        \n",
    "            links.append(i.get_attribute('href'))\n",
    "print(len(links))\n",
    "print(links[0])"
   ]
  },
  {
   "cell_type": "code",
   "execution_count": 75,
   "metadata": {},
   "outputs": [
    {
     "name": "stdout",
     "output_type": "stream",
     "text": [
      "0\n"
     ]
    }
   ],
   "source": [
    "count=0\n",
    "for i in links:\n",
    "    if(i==None):\n",
    "        count=count+1\n",
    "print(count)"
   ]
  },
  {
   "cell_type": "code",
   "execution_count": 76,
   "metadata": {},
   "outputs": [],
   "source": [
    "df2 = pd.DataFrame(columns = ['link', 'title', 'description', 'catagory'])"
   ]
  },
  {
   "cell_type": "code",
   "execution_count": 77,
   "metadata": {},
   "outputs": [
    {
     "ename": "TimeoutException",
     "evalue": "Message: \n",
     "output_type": "error",
     "traceback": [
      "\u001b[1;31m---------------------------------------------------------------------------\u001b[0m",
      "\u001b[1;31mTimeoutException\u001b[0m                          Traceback (most recent call last)",
      "\u001b[1;32m<ipython-input-77-75c8166c50bf>\u001b[0m in \u001b[0;36m<module>\u001b[1;34m\u001b[0m\n\u001b[0;32m      5\u001b[0m     \u001b[0mdriver\u001b[0m\u001b[1;33m.\u001b[0m\u001b[0mget\u001b[0m\u001b[1;33m(\u001b[0m\u001b[0mx\u001b[0m\u001b[1;33m)\u001b[0m\u001b[1;33m\u001b[0m\u001b[1;33m\u001b[0m\u001b[0m\n\u001b[0;32m      6\u001b[0m     \u001b[0mv_id\u001b[0m \u001b[1;33m=\u001b[0m \u001b[0mx\u001b[0m\u001b[1;33m.\u001b[0m\u001b[0mstrip\u001b[0m\u001b[1;33m(\u001b[0m\u001b[1;34m'https://www.youtube.com/watch?v='\u001b[0m\u001b[1;33m)\u001b[0m\u001b[1;33m\u001b[0m\u001b[1;33m\u001b[0m\u001b[0m\n\u001b[1;32m----> 7\u001b[1;33m     \u001b[0mv_title\u001b[0m \u001b[1;33m=\u001b[0m \u001b[0mwait\u001b[0m\u001b[1;33m.\u001b[0m\u001b[0muntil\u001b[0m\u001b[1;33m(\u001b[0m\u001b[0mEC\u001b[0m\u001b[1;33m.\u001b[0m\u001b[0mpresence_of_element_located\u001b[0m\u001b[1;33m(\u001b[0m\u001b[1;33m(\u001b[0m\u001b[0mBy\u001b[0m\u001b[1;33m.\u001b[0m\u001b[0mCSS_SELECTOR\u001b[0m\u001b[1;33m,\u001b[0m\u001b[1;34m\"h1.title yt-formatted-string\"\u001b[0m\u001b[1;33m)\u001b[0m\u001b[1;33m)\u001b[0m\u001b[1;33m)\u001b[0m\u001b[1;33m.\u001b[0m\u001b[0mtext\u001b[0m\u001b[1;33m\u001b[0m\u001b[1;33m\u001b[0m\u001b[0m\n\u001b[0m\u001b[0;32m      8\u001b[0m     \u001b[0mv_description\u001b[0m \u001b[1;33m=\u001b[0m \u001b[0mwait\u001b[0m\u001b[1;33m.\u001b[0m\u001b[0muntil\u001b[0m\u001b[1;33m(\u001b[0m\u001b[0mEC\u001b[0m\u001b[1;33m.\u001b[0m\u001b[0mpresence_of_element_located\u001b[0m\u001b[1;33m(\u001b[0m\u001b[1;33m(\u001b[0m\u001b[0mBy\u001b[0m\u001b[1;33m.\u001b[0m\u001b[0mCSS_SELECTOR\u001b[0m\u001b[1;33m,\u001b[0m\u001b[1;34m\"div#description yt-formatted-string\"\u001b[0m\u001b[1;33m)\u001b[0m\u001b[1;33m)\u001b[0m\u001b[1;33m)\u001b[0m\u001b[1;33m.\u001b[0m\u001b[0mtext\u001b[0m\u001b[1;33m\u001b[0m\u001b[1;33m\u001b[0m\u001b[0m\n\u001b[0;32m      9\u001b[0m     \u001b[0mdf2\u001b[0m\u001b[1;33m.\u001b[0m\u001b[0mloc\u001b[0m\u001b[1;33m[\u001b[0m\u001b[0mlen\u001b[0m\u001b[1;33m(\u001b[0m\u001b[0mdf2\u001b[0m\u001b[1;33m)\u001b[0m\u001b[1;33m]\u001b[0m \u001b[1;33m=\u001b[0m \u001b[1;33m[\u001b[0m\u001b[0mv_id\u001b[0m\u001b[1;33m,\u001b[0m \u001b[0mv_title\u001b[0m\u001b[1;33m,\u001b[0m \u001b[0mv_description\u001b[0m\u001b[1;33m,\u001b[0m \u001b[0mv_category\u001b[0m\u001b[1;33m]\u001b[0m\u001b[1;33m\u001b[0m\u001b[1;33m\u001b[0m\u001b[0m\n",
      "\u001b[1;32m~\\Anaconda3\\lib\\site-packages\\selenium\\webdriver\\support\\wait.py\u001b[0m in \u001b[0;36muntil\u001b[1;34m(self, method, message)\u001b[0m\n\u001b[0;32m     78\u001b[0m             \u001b[1;32mif\u001b[0m \u001b[0mtime\u001b[0m\u001b[1;33m.\u001b[0m\u001b[0mtime\u001b[0m\u001b[1;33m(\u001b[0m\u001b[1;33m)\u001b[0m \u001b[1;33m>\u001b[0m \u001b[0mend_time\u001b[0m\u001b[1;33m:\u001b[0m\u001b[1;33m\u001b[0m\u001b[1;33m\u001b[0m\u001b[0m\n\u001b[0;32m     79\u001b[0m                 \u001b[1;32mbreak\u001b[0m\u001b[1;33m\u001b[0m\u001b[1;33m\u001b[0m\u001b[0m\n\u001b[1;32m---> 80\u001b[1;33m         \u001b[1;32mraise\u001b[0m \u001b[0mTimeoutException\u001b[0m\u001b[1;33m(\u001b[0m\u001b[0mmessage\u001b[0m\u001b[1;33m,\u001b[0m \u001b[0mscreen\u001b[0m\u001b[1;33m,\u001b[0m \u001b[0mstacktrace\u001b[0m\u001b[1;33m)\u001b[0m\u001b[1;33m\u001b[0m\u001b[1;33m\u001b[0m\u001b[0m\n\u001b[0m\u001b[0;32m     81\u001b[0m \u001b[1;33m\u001b[0m\u001b[0m\n\u001b[0;32m     82\u001b[0m     \u001b[1;32mdef\u001b[0m \u001b[0muntil_not\u001b[0m\u001b[1;33m(\u001b[0m\u001b[0mself\u001b[0m\u001b[1;33m,\u001b[0m \u001b[0mmethod\u001b[0m\u001b[1;33m,\u001b[0m \u001b[0mmessage\u001b[0m\u001b[1;33m=\u001b[0m\u001b[1;34m''\u001b[0m\u001b[1;33m)\u001b[0m\u001b[1;33m:\u001b[0m\u001b[1;33m\u001b[0m\u001b[1;33m\u001b[0m\u001b[0m\n",
      "\u001b[1;31mTimeoutException\u001b[0m: Message: \n"
     ]
    }
   ],
   "source": [
    "wait = WebDriverWait(driver, 10)\n",
    "v_category = \"Manufacturing\"\n",
    "for x in links:\n",
    "    #Extract dates from for each user on a page\n",
    "    driver.get(x)\n",
    "    v_id = x.strip('https://www.youtube.com/watch?v=')\n",
    "    v_title = wait.until(EC.presence_of_element_located((By.CSS_SELECTOR,\"h1.title yt-formatted-string\"))).text\n",
    "    v_description = wait.until(EC.presence_of_element_located((By.CSS_SELECTOR,\"div#description yt-formatted-string\"))).text\n",
    "    df2.loc[len(df2)] = [v_id, v_title, v_description, v_category]"
   ]
  },
  {
   "cell_type": "code",
   "execution_count": 78,
   "metadata": {},
   "outputs": [
    {
     "data": {
      "text/plain": [
       "(265, 4)"
      ]
     },
     "execution_count": 78,
     "metadata": {},
     "output_type": "execute_result"
    }
   ],
   "source": [
    "df2.head()\n",
    "df2.shape"
   ]
  },
  {
   "cell_type": "code",
   "execution_count": 79,
   "metadata": {},
   "outputs": [],
   "source": [
    "df2.to_csv('Man7.csv') "
   ]
  },
  {
   "cell_type": "code",
   "execution_count": 81,
   "metadata": {},
   "outputs": [
    {
     "data": {
      "text/plain": [
       "['.ipynb_checkpoints',\n",
       " 'chromedriver.exe',\n",
       " 'Food1.csv',\n",
       " 'Food2.csv',\n",
       " 'Food3.csv',\n",
       " 'Food4.csv',\n",
       " 'Food5.csv',\n",
       " 'Hist1.csv',\n",
       " 'Man1.csv',\n",
       " 'Man2.csv',\n",
       " 'Man3.csv',\n",
       " 'Man4.csv',\n",
       " 'Man5.csv',\n",
       " 'Man6.csv',\n",
       " 'Man7.csv',\n",
       " 'precily2.ipynb',\n",
       " 'precily3.ipynb',\n",
       " 'Precily_web_scrap.ipynb',\n",
       " 'Science1.csv',\n",
       " 'Science2.csv',\n",
       " 'science3.csv',\n",
       " 'Science4.csv',\n",
       " 'Science5.csv',\n",
       " 'Science6.csv',\n",
       " 'travel1.csv',\n",
       " 'travel2.csv',\n",
       " 'travel3.csv',\n",
       " 'travel4.csv',\n",
       " 'travel5.csv']"
      ]
     },
     "execution_count": 81,
     "metadata": {},
     "output_type": "execute_result"
    }
   ],
   "source": [
    "import os\n",
    "files = os.listdir()\n",
    "files"
   ]
  },
  {
   "cell_type": "code",
   "execution_count": 168,
   "metadata": {},
   "outputs": [],
   "source": [
    "df1=pd.read_csv(\"travel1.csv\")\n",
    "df2=pd.read_csv(\"travel2.csv\")\n",
    "df3=pd.read_csv(\"travel8.csv\")\n",
    "df4=pd.read_csv(\"travel4.csv\")\n",
    "df5=pd.read_csv(\"travel5.csv\")\n",
    "#df6=pd.read_csv(\"Science1.csv\")\n",
    "#df7=pd.read_csv(\"Science2.csv\")\n",
    "#df8=pd.read_csv(\"Science3.csv\")\n",
    "#df9=pd.read_csv(\"Science4.csv\")\n",
    "#df10=pd.read_csv(\"Science5.csv\")\n",
    "#df11=pd.read_csv(\"Science6.csv\")\n",
    "#df12=pd.read_csv(\"Man1.csv\")\n",
    "#df13=pd.read_csv(\"Man2.csv\")\n",
    "#df14=pd.read_csv(\"Man3.csv\")\n",
    "#df15=pd.read_csv(\"Man4.csv\")\n",
    "#df16=pd.read_csv(\"Man5.csv\")\n",
    "#df17=pd.read_csv(\"Man6.csv\")\n",
    "#df18=pd.read_csv(\"Man7.csv\")\n",
    "#df19=pd.read_csv(\"Food1.csv\")\n",
    "#df20=pd.read_csv(\"Food2.csv\")\n",
    "#df21=pd.read_csv(\"Food3.csv\")\n",
    "#df22=pd.read_csv(\"Food4.csv\")\n",
    "#df23=pd.read_csv(\"Food5.csv\")\n",
    "#df24=pd.read_csv(\"Hist1.csv\")\n",
    "#df25=pd.read_csv(\"Music1.csv\")\n",
    "#df26=pd.read_csv(\"Music2.csv\")\n"
   ]
  },
  {
   "cell_type": "code",
   "execution_count": 167,
   "metadata": {},
   "outputs": [
    {
     "data": {
      "text/html": [
       "<div>\n",
       "<style scoped>\n",
       "    .dataframe tbody tr th:only-of-type {\n",
       "        vertical-align: middle;\n",
       "    }\n",
       "\n",
       "    .dataframe tbody tr th {\n",
       "        vertical-align: top;\n",
       "    }\n",
       "\n",
       "    .dataframe thead th {\n",
       "        text-align: right;\n",
       "    }\n",
       "</style>\n",
       "<table border=\"1\" class=\"dataframe\">\n",
       "  <thead>\n",
       "    <tr style=\"text-align: right;\">\n",
       "      <th></th>\n",
       "      <th>Unnamed: 0</th>\n",
       "      <th>Unnamed: 0.1</th>\n",
       "      <th>link</th>\n",
       "      <th>title</th>\n",
       "      <th>description</th>\n",
       "      <th>catagory</th>\n",
       "    </tr>\n",
       "  </thead>\n",
       "  <tbody>\n",
       "    <tr>\n",
       "      <th>0</th>\n",
       "      <td>0</td>\n",
       "      <td>0</td>\n",
       "      <td>K9OckN0yR_E</td>\n",
       "      <td>India to USA : My trip begins</td>\n",
       "      <td>http://bit.ly/subscribeMT\\n\\nThis video is abo...</td>\n",
       "      <td>travel</td>\n",
       "    </tr>\n",
       "    <tr>\n",
       "      <th>1</th>\n",
       "      <td>1</td>\n",
       "      <td>1</td>\n",
       "      <td>98H5AN_vfOY</td>\n",
       "      <td>10 Top Tourist Attractions in the USA - Travel...</td>\n",
       "      <td>As one of the largest and most diverse countri...</td>\n",
       "      <td>travel</td>\n",
       "    </tr>\n",
       "    <tr>\n",
       "      <th>2</th>\n",
       "      <td>2</td>\n",
       "      <td>2</td>\n",
       "      <td>rEbBUfiA_ZM</td>\n",
       "      <td>A day in Boston | My USA trip 2018</td>\n",
       "      <td>http://bit.ly/subscribeMT\\n\\nThis video is abo...</td>\n",
       "      <td>travel</td>\n",
       "    </tr>\n",
       "    <tr>\n",
       "      <th>3</th>\n",
       "      <td>3</td>\n",
       "      <td>3</td>\n",
       "      <td>MtCMtC50gwY</td>\n",
       "      <td>New York City Vacation Travel Guide | Expedia</td>\n",
       "      <td>https://www.expedia.com/lp/destinatio...\\n\\nNe...</td>\n",
       "      <td>travel</td>\n",
       "    </tr>\n",
       "    <tr>\n",
       "      <th>4</th>\n",
       "      <td>4</td>\n",
       "      <td>4</td>\n",
       "      <td>Qyj62BMCqFE</td>\n",
       "      <td>EPIC USA Road Trip! (2,361 Miles, 21 Days, 7 S...</td>\n",
       "      <td>EPIC USA Road Trip! (2,361 miles, 21 Days, 7 S...</td>\n",
       "      <td>travel</td>\n",
       "    </tr>\n",
       "  </tbody>\n",
       "</table>\n",
       "</div>"
      ],
      "text/plain": [
       "   Unnamed: 0  Unnamed: 0.1         link  \\\n",
       "0           0             0  K9OckN0yR_E   \n",
       "1           1             1  98H5AN_vfOY   \n",
       "2           2             2  rEbBUfiA_ZM   \n",
       "3           3             3  MtCMtC50gwY   \n",
       "4           4             4  Qyj62BMCqFE   \n",
       "\n",
       "                                               title  \\\n",
       "0                      India to USA : My trip begins   \n",
       "1  10 Top Tourist Attractions in the USA - Travel...   \n",
       "2                 A day in Boston | My USA trip 2018   \n",
       "3      New York City Vacation Travel Guide | Expedia   \n",
       "4  EPIC USA Road Trip! (2,361 Miles, 21 Days, 7 S...   \n",
       "\n",
       "                                         description catagory  \n",
       "0  http://bit.ly/subscribeMT\\n\\nThis video is abo...   travel  \n",
       "1  As one of the largest and most diverse countri...   travel  \n",
       "2  http://bit.ly/subscribeMT\\n\\nThis video is abo...   travel  \n",
       "3  https://www.expedia.com/lp/destinatio...\\n\\nNe...   travel  \n",
       "4  EPIC USA Road Trip! (2,361 miles, 21 Days, 7 S...   travel  "
      ]
     },
     "execution_count": 167,
     "metadata": {},
     "output_type": "execute_result"
    }
   ],
   "source": [
    "df4.head()"
   ]
  },
  {
   "cell_type": "code",
   "execution_count": 135,
   "metadata": {},
   "outputs": [],
   "source": [
    "df3.catagory=\"travel\""
   ]
  },
  {
   "cell_type": "code",
   "execution_count": 156,
   "metadata": {},
   "outputs": [
    {
     "data": {
      "text/html": [
       "<div>\n",
       "<style scoped>\n",
       "    .dataframe tbody tr th:only-of-type {\n",
       "        vertical-align: middle;\n",
       "    }\n",
       "\n",
       "    .dataframe tbody tr th {\n",
       "        vertical-align: top;\n",
       "    }\n",
       "\n",
       "    .dataframe thead th {\n",
       "        text-align: right;\n",
       "    }\n",
       "</style>\n",
       "<table border=\"1\" class=\"dataframe\">\n",
       "  <thead>\n",
       "    <tr style=\"text-align: right;\">\n",
       "      <th></th>\n",
       "      <th>Unnamed: 0</th>\n",
       "      <th>link</th>\n",
       "      <th>title</th>\n",
       "      <th>description</th>\n",
       "      <th>catagory</th>\n",
       "    </tr>\n",
       "  </thead>\n",
       "  <tbody>\n",
       "    <tr>\n",
       "      <th>0</th>\n",
       "      <td>0</td>\n",
       "      <td>n79Rv0F48</td>\n",
       "      <td>Backpacking In Meghalaya | NorthEast India Tri...</td>\n",
       "      <td>In this video I explored North East India, sta...</td>\n",
       "      <td>travel</td>\n",
       "    </tr>\n",
       "    <tr>\n",
       "      <th>1</th>\n",
       "      <td>1</td>\n",
       "      <td>JLZlCZ0</td>\n",
       "      <td>Ep 1| Travelling through North East India | Of...</td>\n",
       "      <td>The journey to Arunachal, North East India beg...</td>\n",
       "      <td>travel</td>\n",
       "    </tr>\n",
       "    <tr>\n",
       "      <th>2</th>\n",
       "      <td>2</td>\n",
       "      <td>zHZVeFa0kdk</td>\n",
       "      <td>First India Train Experience | Delhi to Amrits...</td>\n",
       "      <td>We are leaving Delhi and making our way to the...</td>\n",
       "      <td>travel</td>\n",
       "    </tr>\n",
       "    <tr>\n",
       "      <th>3</th>\n",
       "      <td>3</td>\n",
       "      <td>Rbn0cxbl28M</td>\n",
       "      <td>You Won't Believe This is India... 2!</td>\n",
       "      <td>Did you know India has the most beautiful whit...</td>\n",
       "      <td>travel</td>\n",
       "    </tr>\n",
       "    <tr>\n",
       "      <th>4</th>\n",
       "      <td>4</td>\n",
       "      <td>8SSpN4IHSk</td>\n",
       "      <td>FIRST CLASS INDIAN TRAIN | GOA TO KERALA</td>\n",
       "      <td>Finally we are riding our first Indian train f...</td>\n",
       "      <td>travel</td>\n",
       "    </tr>\n",
       "  </tbody>\n",
       "</table>\n",
       "</div>"
      ],
      "text/plain": [
       "   Unnamed: 0         link                                              title  \\\n",
       "0           0    n79Rv0F48  Backpacking In Meghalaya | NorthEast India Tri...   \n",
       "1           1      JLZlCZ0  Ep 1| Travelling through North East India | Of...   \n",
       "2           2  zHZVeFa0kdk  First India Train Experience | Delhi to Amrits...   \n",
       "3           3  Rbn0cxbl28M              You Won't Believe This is India... 2!   \n",
       "4           4   8SSpN4IHSk           FIRST CLASS INDIAN TRAIN | GOA TO KERALA   \n",
       "\n",
       "                                         description catagory  \n",
       "0  In this video I explored North East India, sta...   travel  \n",
       "1  The journey to Arunachal, North East India beg...   travel  \n",
       "2  We are leaving Delhi and making our way to the...   travel  \n",
       "3  Did you know India has the most beautiful whit...   travel  \n",
       "4  Finally we are riding our first Indian train f...   travel  "
      ]
     },
     "execution_count": 156,
     "metadata": {},
     "output_type": "execute_result"
    }
   ],
   "source": [
    "df.head()"
   ]
  },
  {
   "cell_type": "code",
   "execution_count": 169,
   "metadata": {},
   "outputs": [
    {
     "data": {
      "text/html": [
       "<div>\n",
       "<style scoped>\n",
       "    .dataframe tbody tr th:only-of-type {\n",
       "        vertical-align: middle;\n",
       "    }\n",
       "\n",
       "    .dataframe tbody tr th {\n",
       "        vertical-align: top;\n",
       "    }\n",
       "\n",
       "    .dataframe thead th {\n",
       "        text-align: right;\n",
       "    }\n",
       "</style>\n",
       "<table border=\"1\" class=\"dataframe\">\n",
       "  <thead>\n",
       "    <tr style=\"text-align: right;\">\n",
       "      <th></th>\n",
       "      <th>Unnamed: 0</th>\n",
       "      <th>link</th>\n",
       "      <th>title</th>\n",
       "      <th>description</th>\n",
       "      <th>catagory</th>\n",
       "    </tr>\n",
       "  </thead>\n",
       "  <tbody>\n",
       "    <tr>\n",
       "      <th>0</th>\n",
       "      <td>0</td>\n",
       "      <td>SLM4vllf4a8</td>\n",
       "      <td>Simple Floral Abstract Painting using Fan Brus...</td>\n",
       "      <td>Satisfying demonstration of simple floral abst...</td>\n",
       "      <td>Arts and Music</td>\n",
       "    </tr>\n",
       "    <tr>\n",
       "      <th>1</th>\n",
       "      <td>1</td>\n",
       "      <td>HCKMkM0wF9</td>\n",
       "      <td>Trick Art Drawing 3D Tiny House on paper</td>\n",
       "      <td>Cool Trick Art Drawing 3D Tiny House on paper ...</td>\n",
       "      <td>Arts and Music</td>\n",
       "    </tr>\n",
       "    <tr>\n",
       "      <th>2</th>\n",
       "      <td>2</td>\n",
       "      <td>4NGSlO82M3</td>\n",
       "      <td>Best craft with cotton buds | Best craft idea ...</td>\n",
       "      <td>Best craft idea #craft ideas #DIY #how to #cot...</td>\n",
       "      <td>Arts and Music</td>\n",
       "    </tr>\n",
       "    <tr>\n",
       "      <th>3</th>\n",
       "      <td>3</td>\n",
       "      <td>NRNMupJ-48Y</td>\n",
       "      <td>YS Jagan in Falaknuma | Hum Dhenge Review | 7 ...</td>\n",
       "      <td>Namasthe 7 Arts cult ....\\nThis is our funny t...</td>\n",
       "      <td>Arts and Music</td>\n",
       "    </tr>\n",
       "    <tr>\n",
       "      <th>4</th>\n",
       "      <td>4</td>\n",
       "      <td>4Y19VjuOEU</td>\n",
       "      <td>Amazing 18 Nail Art Designs | New Nail Art Com...</td>\n",
       "      <td>Brand new beauty compilation featuring the bes...</td>\n",
       "      <td>Arts and Music</td>\n",
       "    </tr>\n",
       "  </tbody>\n",
       "</table>\n",
       "</div>"
      ],
      "text/plain": [
       "   Unnamed: 0         link                                              title  \\\n",
       "0           0  SLM4vllf4a8  Simple Floral Abstract Painting using Fan Brus...   \n",
       "1           1   HCKMkM0wF9           Trick Art Drawing 3D Tiny House on paper   \n",
       "2           2   4NGSlO82M3  Best craft with cotton buds | Best craft idea ...   \n",
       "3           3  NRNMupJ-48Y  YS Jagan in Falaknuma | Hum Dhenge Review | 7 ...   \n",
       "4           4   4Y19VjuOEU  Amazing 18 Nail Art Designs | New Nail Art Com...   \n",
       "\n",
       "                                         description        catagory  \n",
       "0  Satisfying demonstration of simple floral abst...  Arts and Music  \n",
       "1  Cool Trick Art Drawing 3D Tiny House on paper ...  Arts and Music  \n",
       "2  Best craft idea #craft ideas #DIY #how to #cot...  Arts and Music  \n",
       "3  Namasthe 7 Arts cult ....\\nThis is our funny t...  Arts and Music  \n",
       "4  Brand new beauty compilation featuring the bes...  Arts and Music  "
      ]
     },
     "execution_count": 169,
     "metadata": {},
     "output_type": "execute_result"
    }
   ],
   "source": [
    "df3.head()"
   ]
  },
  {
   "cell_type": "code",
   "execution_count": 170,
   "metadata": {},
   "outputs": [],
   "source": [
    "df3.catagory=\"travel\""
   ]
  },
  {
   "cell_type": "code",
   "execution_count": 173,
   "metadata": {},
   "outputs": [
    {
     "data": {
      "text/html": [
       "<div>\n",
       "<style scoped>\n",
       "    .dataframe tbody tr th:only-of-type {\n",
       "        vertical-align: middle;\n",
       "    }\n",
       "\n",
       "    .dataframe tbody tr th {\n",
       "        vertical-align: top;\n",
       "    }\n",
       "\n",
       "    .dataframe thead th {\n",
       "        text-align: right;\n",
       "    }\n",
       "</style>\n",
       "<table border=\"1\" class=\"dataframe\">\n",
       "  <thead>\n",
       "    <tr style=\"text-align: right;\">\n",
       "      <th></th>\n",
       "      <th>Unnamed: 0</th>\n",
       "      <th>link</th>\n",
       "      <th>title</th>\n",
       "      <th>description</th>\n",
       "      <th>catagory</th>\n",
       "    </tr>\n",
       "  </thead>\n",
       "  <tbody>\n",
       "    <tr>\n",
       "      <th>0</th>\n",
       "      <td>0</td>\n",
       "      <td>SLM4vllf4a8</td>\n",
       "      <td>Simple Floral Abstract Painting using Fan Brus...</td>\n",
       "      <td>Satisfying demonstration of simple floral abst...</td>\n",
       "      <td>Arts and Music</td>\n",
       "    </tr>\n",
       "    <tr>\n",
       "      <th>1</th>\n",
       "      <td>1</td>\n",
       "      <td>HCKMkM0wF9</td>\n",
       "      <td>Trick Art Drawing 3D Tiny House on paper</td>\n",
       "      <td>Cool Trick Art Drawing 3D Tiny House on paper ...</td>\n",
       "      <td>Arts and Music</td>\n",
       "    </tr>\n",
       "    <tr>\n",
       "      <th>2</th>\n",
       "      <td>2</td>\n",
       "      <td>4NGSlO82M3</td>\n",
       "      <td>Best craft with cotton buds | Best craft idea ...</td>\n",
       "      <td>Best craft idea #craft ideas #DIY #how to #cot...</td>\n",
       "      <td>Arts and Music</td>\n",
       "    </tr>\n",
       "    <tr>\n",
       "      <th>3</th>\n",
       "      <td>3</td>\n",
       "      <td>NRNMupJ-48Y</td>\n",
       "      <td>YS Jagan in Falaknuma | Hum Dhenge Review | 7 ...</td>\n",
       "      <td>Namasthe 7 Arts cult ....\\nThis is our funny t...</td>\n",
       "      <td>Arts and Music</td>\n",
       "    </tr>\n",
       "    <tr>\n",
       "      <th>4</th>\n",
       "      <td>4</td>\n",
       "      <td>4Y19VjuOEU</td>\n",
       "      <td>Amazing 18 Nail Art Designs | New Nail Art Com...</td>\n",
       "      <td>Brand new beauty compilation featuring the bes...</td>\n",
       "      <td>Arts and Music</td>\n",
       "    </tr>\n",
       "  </tbody>\n",
       "</table>\n",
       "</div>"
      ],
      "text/plain": [
       "   Unnamed: 0         link                                              title  \\\n",
       "0           0  SLM4vllf4a8  Simple Floral Abstract Painting using Fan Brus...   \n",
       "1           1   HCKMkM0wF9           Trick Art Drawing 3D Tiny House on paper   \n",
       "2           2   4NGSlO82M3  Best craft with cotton buds | Best craft idea ...   \n",
       "3           3  NRNMupJ-48Y  YS Jagan in Falaknuma | Hum Dhenge Review | 7 ...   \n",
       "4           4   4Y19VjuOEU  Amazing 18 Nail Art Designs | New Nail Art Com...   \n",
       "\n",
       "                                         description        catagory  \n",
       "0  Satisfying demonstration of simple floral abst...  Arts and Music  \n",
       "1  Cool Trick Art Drawing 3D Tiny House on paper ...  Arts and Music  \n",
       "2  Best craft idea #craft ideas #DIY #how to #cot...  Arts and Music  \n",
       "3  Namasthe 7 Arts cult ....\\nThis is our funny t...  Arts and Music  \n",
       "4  Brand new beauty compilation featuring the bes...  Arts and Music  "
      ]
     },
     "execution_count": 173,
     "metadata": {},
     "output_type": "execute_result"
    }
   ],
   "source": [
    "df26.head()"
   ]
  },
  {
   "cell_type": "code",
   "execution_count": null,
   "metadata": {},
   "outputs": [],
   "source": [
    "df1,df2,df4,df5,df6,df7,df8,df9,df10,df11,df12,df13,df14,df15,df16,df17,df18,"
   ]
  },
  {
   "cell_type": "code",
   "execution_count": 174,
   "metadata": {},
   "outputs": [],
   "source": [
    "frames = [data_t,df1,df2,df5]\n",
    "data_t= pd.concat(frames, axis=0, join='outer', join_axes=None, ignore_index=True,\n",
    "                            keys=None, levels=None, names=None, verify_integrity=False, copy=True)"
   ]
  },
  {
   "cell_type": "code",
   "execution_count": 175,
   "metadata": {},
   "outputs": [],
   "source": [
    "data_t.to_csv('data_t.csv')"
   ]
  },
  {
   "cell_type": "code",
   "execution_count": 109,
   "metadata": {},
   "outputs": [],
   "source": [
    "m=pd.read_csv(\"travel.csv\")"
   ]
  },
  {
   "cell_type": "code",
   "execution_count": 110,
   "metadata": {},
   "outputs": [
    {
     "data": {
      "text/html": [
       "<div>\n",
       "<style scoped>\n",
       "    .dataframe tbody tr th:only-of-type {\n",
       "        vertical-align: middle;\n",
       "    }\n",
       "\n",
       "    .dataframe tbody tr th {\n",
       "        vertical-align: top;\n",
       "    }\n",
       "\n",
       "    .dataframe thead th {\n",
       "        text-align: right;\n",
       "    }\n",
       "</style>\n",
       "<table border=\"1\" class=\"dataframe\">\n",
       "  <thead>\n",
       "    <tr style=\"text-align: right;\">\n",
       "      <th></th>\n",
       "      <th>Unnamed: 0</th>\n",
       "      <th>link</th>\n",
       "      <th>title</th>\n",
       "      <th>description</th>\n",
       "      <th>catagory</th>\n",
       "    </tr>\n",
       "  </thead>\n",
       "  <tbody>\n",
       "    <tr>\n",
       "      <th>0</th>\n",
       "      <td>0</td>\n",
       "      <td>K9OckN0yR_E</td>\n",
       "      <td>India to USA : My trip begins</td>\n",
       "      <td>http://bit.ly/subscribeMT\\n\\nThis video is abo...</td>\n",
       "      <td>Art &amp; Dance</td>\n",
       "    </tr>\n",
       "    <tr>\n",
       "      <th>1</th>\n",
       "      <td>1</td>\n",
       "      <td>98H5AN_vfOY</td>\n",
       "      <td>10 Top Tourist Attractions in the USA - Travel...</td>\n",
       "      <td>As one of the largest and most diverse countri...</td>\n",
       "      <td>Art &amp; Dance</td>\n",
       "    </tr>\n",
       "    <tr>\n",
       "      <th>2</th>\n",
       "      <td>2</td>\n",
       "      <td>rEbBUfiA_ZM</td>\n",
       "      <td>A day in Boston | My USA trip 2018</td>\n",
       "      <td>http://bit.ly/subscribeMT\\n\\nThis video is abo...</td>\n",
       "      <td>Art &amp; Dance</td>\n",
       "    </tr>\n",
       "    <tr>\n",
       "      <th>3</th>\n",
       "      <td>3</td>\n",
       "      <td>MtCMtC50gwY</td>\n",
       "      <td>New York City Vacation Travel Guide | Expedia</td>\n",
       "      <td>https://www.expedia.com/lp/destinatio...\\n\\nNe...</td>\n",
       "      <td>Art &amp; Dance</td>\n",
       "    </tr>\n",
       "    <tr>\n",
       "      <th>4</th>\n",
       "      <td>4</td>\n",
       "      <td>Qyj62BMCqFE</td>\n",
       "      <td>EPIC USA Road Trip! (2,361 Miles, 21 Days, 7 S...</td>\n",
       "      <td>EPIC USA Road Trip! (2,361 miles, 21 Days, 7 S...</td>\n",
       "      <td>Art &amp; Dance</td>\n",
       "    </tr>\n",
       "  </tbody>\n",
       "</table>\n",
       "</div>"
      ],
      "text/plain": [
       "   Unnamed: 0         link                                              title  \\\n",
       "0           0  K9OckN0yR_E                      India to USA : My trip begins   \n",
       "1           1  98H5AN_vfOY  10 Top Tourist Attractions in the USA - Travel...   \n",
       "2           2  rEbBUfiA_ZM                 A day in Boston | My USA trip 2018   \n",
       "3           3  MtCMtC50gwY      New York City Vacation Travel Guide | Expedia   \n",
       "4           4  Qyj62BMCqFE  EPIC USA Road Trip! (2,361 Miles, 21 Days, 7 S...   \n",
       "\n",
       "                                         description     catagory  \n",
       "0  http://bit.ly/subscribeMT\\n\\nThis video is abo...  Art & Dance  \n",
       "1  As one of the largest and most diverse countri...  Art & Dance  \n",
       "2  http://bit.ly/subscribeMT\\n\\nThis video is abo...  Art & Dance  \n",
       "3  https://www.expedia.com/lp/destinatio...\\n\\nNe...  Art & Dance  \n",
       "4  EPIC USA Road Trip! (2,361 miles, 21 Days, 7 S...  Art & Dance  "
      ]
     },
     "execution_count": 110,
     "metadata": {},
     "output_type": "execute_result"
    }
   ],
   "source": [
    "m.head()"
   ]
  },
  {
   "cell_type": "code",
   "execution_count": 113,
   "metadata": {},
   "outputs": [
    {
     "data": {
      "text/html": [
       "<div>\n",
       "<style scoped>\n",
       "    .dataframe tbody tr th:only-of-type {\n",
       "        vertical-align: middle;\n",
       "    }\n",
       "\n",
       "    .dataframe tbody tr th {\n",
       "        vertical-align: top;\n",
       "    }\n",
       "\n",
       "    .dataframe thead th {\n",
       "        text-align: right;\n",
       "    }\n",
       "</style>\n",
       "<table border=\"1\" class=\"dataframe\">\n",
       "  <thead>\n",
       "    <tr style=\"text-align: right;\">\n",
       "      <th></th>\n",
       "      <th>Unnamed: 0</th>\n",
       "      <th>link</th>\n",
       "      <th>title</th>\n",
       "      <th>description</th>\n",
       "      <th>catagory</th>\n",
       "    </tr>\n",
       "  </thead>\n",
       "  <tbody>\n",
       "    <tr>\n",
       "      <th>0</th>\n",
       "      <td>0</td>\n",
       "      <td>K9OckN0yR_E</td>\n",
       "      <td>India to USA : My trip begins</td>\n",
       "      <td>http://bit.ly/subscribeMT\\n\\nThis video is abo...</td>\n",
       "      <td>travel</td>\n",
       "    </tr>\n",
       "    <tr>\n",
       "      <th>1</th>\n",
       "      <td>1</td>\n",
       "      <td>98H5AN_vfOY</td>\n",
       "      <td>10 Top Tourist Attractions in the USA - Travel...</td>\n",
       "      <td>As one of the largest and most diverse countri...</td>\n",
       "      <td>travel</td>\n",
       "    </tr>\n",
       "    <tr>\n",
       "      <th>2</th>\n",
       "      <td>2</td>\n",
       "      <td>rEbBUfiA_ZM</td>\n",
       "      <td>A day in Boston | My USA trip 2018</td>\n",
       "      <td>http://bit.ly/subscribeMT\\n\\nThis video is abo...</td>\n",
       "      <td>travel</td>\n",
       "    </tr>\n",
       "    <tr>\n",
       "      <th>3</th>\n",
       "      <td>3</td>\n",
       "      <td>MtCMtC50gwY</td>\n",
       "      <td>New York City Vacation Travel Guide | Expedia</td>\n",
       "      <td>https://www.expedia.com/lp/destinatio...\\n\\nNe...</td>\n",
       "      <td>travel</td>\n",
       "    </tr>\n",
       "    <tr>\n",
       "      <th>4</th>\n",
       "      <td>4</td>\n",
       "      <td>Qyj62BMCqFE</td>\n",
       "      <td>EPIC USA Road Trip! (2,361 Miles, 21 Days, 7 S...</td>\n",
       "      <td>EPIC USA Road Trip! (2,361 miles, 21 Days, 7 S...</td>\n",
       "      <td>travel</td>\n",
       "    </tr>\n",
       "  </tbody>\n",
       "</table>\n",
       "</div>"
      ],
      "text/plain": [
       "   Unnamed: 0         link                                              title  \\\n",
       "0           0  K9OckN0yR_E                      India to USA : My trip begins   \n",
       "1           1  98H5AN_vfOY  10 Top Tourist Attractions in the USA - Travel...   \n",
       "2           2  rEbBUfiA_ZM                 A day in Boston | My USA trip 2018   \n",
       "3           3  MtCMtC50gwY      New York City Vacation Travel Guide | Expedia   \n",
       "4           4  Qyj62BMCqFE  EPIC USA Road Trip! (2,361 Miles, 21 Days, 7 S...   \n",
       "\n",
       "                                         description catagory  \n",
       "0  http://bit.ly/subscribeMT\\n\\nThis video is abo...   travel  \n",
       "1  As one of the largest and most diverse countri...   travel  \n",
       "2  http://bit.ly/subscribeMT\\n\\nThis video is abo...   travel  \n",
       "3  https://www.expedia.com/lp/destinatio...\\n\\nNe...   travel  \n",
       "4  EPIC USA Road Trip! (2,361 miles, 21 Days, 7 S...   travel  "
      ]
     },
     "execution_count": 113,
     "metadata": {},
     "output_type": "execute_result"
    }
   ],
   "source": [
    "m.catagory=\"travel\"\n",
    "m.head()"
   ]
  },
  {
   "cell_type": "code",
   "execution_count": 112,
   "metadata": {},
   "outputs": [
    {
     "ename": "PermissionError",
     "evalue": "[Errno 13] Permission denied: 'travel3.csv'",
     "output_type": "error",
     "traceback": [
      "\u001b[1;31m---------------------------------------------------------------------------\u001b[0m",
      "\u001b[1;31mPermissionError\u001b[0m                           Traceback (most recent call last)",
      "\u001b[1;32m<ipython-input-112-664f9232e7f1>\u001b[0m in \u001b[0;36m<module>\u001b[1;34m\u001b[0m\n\u001b[1;32m----> 1\u001b[1;33m \u001b[0mm\u001b[0m\u001b[1;33m.\u001b[0m\u001b[0mto_csv\u001b[0m\u001b[1;33m(\u001b[0m\u001b[1;34m\"travel3.csv\"\u001b[0m\u001b[1;33m)\u001b[0m\u001b[1;33m\u001b[0m\u001b[1;33m\u001b[0m\u001b[0m\n\u001b[0m",
      "\u001b[1;32m~\\Anaconda3\\lib\\site-packages\\pandas\\core\\generic.py\u001b[0m in \u001b[0;36mto_csv\u001b[1;34m(self, path_or_buf, sep, na_rep, float_format, columns, header, index, index_label, mode, encoding, compression, quoting, quotechar, line_terminator, chunksize, tupleize_cols, date_format, doublequote, escapechar, decimal)\u001b[0m\n\u001b[0;32m   3018\u001b[0m                                  \u001b[0mdoublequote\u001b[0m\u001b[1;33m=\u001b[0m\u001b[0mdoublequote\u001b[0m\u001b[1;33m,\u001b[0m\u001b[1;33m\u001b[0m\u001b[1;33m\u001b[0m\u001b[0m\n\u001b[0;32m   3019\u001b[0m                                  escapechar=escapechar, decimal=decimal)\n\u001b[1;32m-> 3020\u001b[1;33m         \u001b[0mformatter\u001b[0m\u001b[1;33m.\u001b[0m\u001b[0msave\u001b[0m\u001b[1;33m(\u001b[0m\u001b[1;33m)\u001b[0m\u001b[1;33m\u001b[0m\u001b[1;33m\u001b[0m\u001b[0m\n\u001b[0m\u001b[0;32m   3021\u001b[0m \u001b[1;33m\u001b[0m\u001b[0m\n\u001b[0;32m   3022\u001b[0m         \u001b[1;32mif\u001b[0m \u001b[0mpath_or_buf\u001b[0m \u001b[1;32mis\u001b[0m \u001b[1;32mNone\u001b[0m\u001b[1;33m:\u001b[0m\u001b[1;33m\u001b[0m\u001b[1;33m\u001b[0m\u001b[0m\n",
      "\u001b[1;32m~\\Anaconda3\\lib\\site-packages\\pandas\\io\\formats\\csvs.py\u001b[0m in \u001b[0;36msave\u001b[1;34m(self)\u001b[0m\n\u001b[0;32m    155\u001b[0m             f, handles = _get_handle(self.path_or_buf, self.mode,\n\u001b[0;32m    156\u001b[0m                                      \u001b[0mencoding\u001b[0m\u001b[1;33m=\u001b[0m\u001b[0mself\u001b[0m\u001b[1;33m.\u001b[0m\u001b[0mencoding\u001b[0m\u001b[1;33m,\u001b[0m\u001b[1;33m\u001b[0m\u001b[1;33m\u001b[0m\u001b[0m\n\u001b[1;32m--> 157\u001b[1;33m                                      compression=self.compression)\n\u001b[0m\u001b[0;32m    158\u001b[0m             \u001b[0mclose\u001b[0m \u001b[1;33m=\u001b[0m \u001b[1;32mTrue\u001b[0m\u001b[1;33m\u001b[0m\u001b[1;33m\u001b[0m\u001b[0m\n\u001b[0;32m    159\u001b[0m \u001b[1;33m\u001b[0m\u001b[0m\n",
      "\u001b[1;32m~\\Anaconda3\\lib\\site-packages\\pandas\\io\\common.py\u001b[0m in \u001b[0;36m_get_handle\u001b[1;34m(path_or_buf, mode, encoding, compression, memory_map, is_text)\u001b[0m\n\u001b[0;32m    422\u001b[0m         \u001b[1;32melif\u001b[0m \u001b[0mencoding\u001b[0m\u001b[1;33m:\u001b[0m\u001b[1;33m\u001b[0m\u001b[1;33m\u001b[0m\u001b[0m\n\u001b[0;32m    423\u001b[0m             \u001b[1;31m# Python 3 and encoding\u001b[0m\u001b[1;33m\u001b[0m\u001b[1;33m\u001b[0m\u001b[1;33m\u001b[0m\u001b[0m\n\u001b[1;32m--> 424\u001b[1;33m             \u001b[0mf\u001b[0m \u001b[1;33m=\u001b[0m \u001b[0mopen\u001b[0m\u001b[1;33m(\u001b[0m\u001b[0mpath_or_buf\u001b[0m\u001b[1;33m,\u001b[0m \u001b[0mmode\u001b[0m\u001b[1;33m,\u001b[0m \u001b[0mencoding\u001b[0m\u001b[1;33m=\u001b[0m\u001b[0mencoding\u001b[0m\u001b[1;33m,\u001b[0m \u001b[0mnewline\u001b[0m\u001b[1;33m=\u001b[0m\u001b[1;34m\"\"\u001b[0m\u001b[1;33m)\u001b[0m\u001b[1;33m\u001b[0m\u001b[1;33m\u001b[0m\u001b[0m\n\u001b[0m\u001b[0;32m    425\u001b[0m         \u001b[1;32melif\u001b[0m \u001b[0mis_text\u001b[0m\u001b[1;33m:\u001b[0m\u001b[1;33m\u001b[0m\u001b[1;33m\u001b[0m\u001b[0m\n\u001b[0;32m    426\u001b[0m             \u001b[1;31m# Python 3 and no explicit encoding\u001b[0m\u001b[1;33m\u001b[0m\u001b[1;33m\u001b[0m\u001b[1;33m\u001b[0m\u001b[0m\n",
      "\u001b[1;31mPermissionError\u001b[0m: [Errno 13] Permission denied: 'travel3.csv'"
     ]
    }
   ],
   "source": [
    "m.to_csv(\"travel3.csv\")"
   ]
  },
  {
   "cell_type": "code",
   "execution_count": 106,
   "metadata": {},
   "outputs": [],
   "source": [
    "frames = [m,df_all]\n",
    "df_all = pd.concat(frames, axis=0, join='outer', join_axes=None, ignore_index=True,\n",
    "                            keys=None, levels=None, names=None, verify_integrity=False, copy=True)"
   ]
  },
  {
   "cell_type": "code",
   "execution_count": 100,
   "metadata": {},
   "outputs": [],
   "source": [
    "df_all.to_csv('df_all.csv')"
   ]
  },
  {
   "cell_type": "code",
   "execution_count": 114,
   "metadata": {},
   "outputs": [],
   "source": [
    "df_all= df_all.set_index(\"catagory\")\n",
    "df_all = df_all.drop(\"Art & Dance\", axis=0)"
   ]
  },
  {
   "cell_type": "code",
   "execution_count": 116,
   "metadata": {},
   "outputs": [
    {
     "ename": "KeyError",
     "evalue": "'catagory'",
     "output_type": "error",
     "traceback": [
      "\u001b[1;31m---------------------------------------------------------------------------\u001b[0m",
      "\u001b[1;31mKeyError\u001b[0m                                  Traceback (most recent call last)",
      "\u001b[1;32m~\\Anaconda3\\lib\\site-packages\\pandas\\core\\indexes\\base.py\u001b[0m in \u001b[0;36mget_loc\u001b[1;34m(self, key, method, tolerance)\u001b[0m\n\u001b[0;32m   2656\u001b[0m             \u001b[1;32mtry\u001b[0m\u001b[1;33m:\u001b[0m\u001b[1;33m\u001b[0m\u001b[1;33m\u001b[0m\u001b[0m\n\u001b[1;32m-> 2657\u001b[1;33m                 \u001b[1;32mreturn\u001b[0m \u001b[0mself\u001b[0m\u001b[1;33m.\u001b[0m\u001b[0m_engine\u001b[0m\u001b[1;33m.\u001b[0m\u001b[0mget_loc\u001b[0m\u001b[1;33m(\u001b[0m\u001b[0mkey\u001b[0m\u001b[1;33m)\u001b[0m\u001b[1;33m\u001b[0m\u001b[1;33m\u001b[0m\u001b[0m\n\u001b[0m\u001b[0;32m   2658\u001b[0m             \u001b[1;32mexcept\u001b[0m \u001b[0mKeyError\u001b[0m\u001b[1;33m:\u001b[0m\u001b[1;33m\u001b[0m\u001b[1;33m\u001b[0m\u001b[0m\n",
      "\u001b[1;32mpandas/_libs/index.pyx\u001b[0m in \u001b[0;36mpandas._libs.index.IndexEngine.get_loc\u001b[1;34m()\u001b[0m\n",
      "\u001b[1;32mpandas/_libs/index.pyx\u001b[0m in \u001b[0;36mpandas._libs.index.IndexEngine.get_loc\u001b[1;34m()\u001b[0m\n",
      "\u001b[1;32mpandas/_libs/hashtable_class_helper.pxi\u001b[0m in \u001b[0;36mpandas._libs.hashtable.PyObjectHashTable.get_item\u001b[1;34m()\u001b[0m\n",
      "\u001b[1;32mpandas/_libs/hashtable_class_helper.pxi\u001b[0m in \u001b[0;36mpandas._libs.hashtable.PyObjectHashTable.get_item\u001b[1;34m()\u001b[0m\n",
      "\u001b[1;31mKeyError\u001b[0m: 'catagory'",
      "\nDuring handling of the above exception, another exception occurred:\n",
      "\u001b[1;31mKeyError\u001b[0m                                  Traceback (most recent call last)",
      "\u001b[1;32m<ipython-input-116-ce4529d6be89>\u001b[0m in \u001b[0;36m<module>\u001b[1;34m\u001b[0m\n\u001b[1;32m----> 1\u001b[1;33m \u001b[0mdf_all\u001b[0m\u001b[1;33m[\u001b[0m\u001b[0mdf_all\u001b[0m\u001b[1;33m[\u001b[0m\u001b[1;34m\"catagory\"\u001b[0m\u001b[1;33m]\u001b[0m\u001b[1;33m==\u001b[0m\u001b[1;34m\"Art & Dance\"\u001b[0m\u001b[1;33m]\u001b[0m\u001b[1;33m\u001b[0m\u001b[1;33m\u001b[0m\u001b[0m\n\u001b[0m",
      "\u001b[1;32m~\\Anaconda3\\lib\\site-packages\\pandas\\core\\frame.py\u001b[0m in \u001b[0;36m__getitem__\u001b[1;34m(self, key)\u001b[0m\n\u001b[0;32m   2925\u001b[0m             \u001b[1;32mif\u001b[0m \u001b[0mself\u001b[0m\u001b[1;33m.\u001b[0m\u001b[0mcolumns\u001b[0m\u001b[1;33m.\u001b[0m\u001b[0mnlevels\u001b[0m \u001b[1;33m>\u001b[0m \u001b[1;36m1\u001b[0m\u001b[1;33m:\u001b[0m\u001b[1;33m\u001b[0m\u001b[1;33m\u001b[0m\u001b[0m\n\u001b[0;32m   2926\u001b[0m                 \u001b[1;32mreturn\u001b[0m \u001b[0mself\u001b[0m\u001b[1;33m.\u001b[0m\u001b[0m_getitem_multilevel\u001b[0m\u001b[1;33m(\u001b[0m\u001b[0mkey\u001b[0m\u001b[1;33m)\u001b[0m\u001b[1;33m\u001b[0m\u001b[1;33m\u001b[0m\u001b[0m\n\u001b[1;32m-> 2927\u001b[1;33m             \u001b[0mindexer\u001b[0m \u001b[1;33m=\u001b[0m \u001b[0mself\u001b[0m\u001b[1;33m.\u001b[0m\u001b[0mcolumns\u001b[0m\u001b[1;33m.\u001b[0m\u001b[0mget_loc\u001b[0m\u001b[1;33m(\u001b[0m\u001b[0mkey\u001b[0m\u001b[1;33m)\u001b[0m\u001b[1;33m\u001b[0m\u001b[1;33m\u001b[0m\u001b[0m\n\u001b[0m\u001b[0;32m   2928\u001b[0m             \u001b[1;32mif\u001b[0m \u001b[0mis_integer\u001b[0m\u001b[1;33m(\u001b[0m\u001b[0mindexer\u001b[0m\u001b[1;33m)\u001b[0m\u001b[1;33m:\u001b[0m\u001b[1;33m\u001b[0m\u001b[1;33m\u001b[0m\u001b[0m\n\u001b[0;32m   2929\u001b[0m                 \u001b[0mindexer\u001b[0m \u001b[1;33m=\u001b[0m \u001b[1;33m[\u001b[0m\u001b[0mindexer\u001b[0m\u001b[1;33m]\u001b[0m\u001b[1;33m\u001b[0m\u001b[1;33m\u001b[0m\u001b[0m\n",
      "\u001b[1;32m~\\Anaconda3\\lib\\site-packages\\pandas\\core\\indexes\\base.py\u001b[0m in \u001b[0;36mget_loc\u001b[1;34m(self, key, method, tolerance)\u001b[0m\n\u001b[0;32m   2657\u001b[0m                 \u001b[1;32mreturn\u001b[0m \u001b[0mself\u001b[0m\u001b[1;33m.\u001b[0m\u001b[0m_engine\u001b[0m\u001b[1;33m.\u001b[0m\u001b[0mget_loc\u001b[0m\u001b[1;33m(\u001b[0m\u001b[0mkey\u001b[0m\u001b[1;33m)\u001b[0m\u001b[1;33m\u001b[0m\u001b[1;33m\u001b[0m\u001b[0m\n\u001b[0;32m   2658\u001b[0m             \u001b[1;32mexcept\u001b[0m \u001b[0mKeyError\u001b[0m\u001b[1;33m:\u001b[0m\u001b[1;33m\u001b[0m\u001b[1;33m\u001b[0m\u001b[0m\n\u001b[1;32m-> 2659\u001b[1;33m                 \u001b[1;32mreturn\u001b[0m \u001b[0mself\u001b[0m\u001b[1;33m.\u001b[0m\u001b[0m_engine\u001b[0m\u001b[1;33m.\u001b[0m\u001b[0mget_loc\u001b[0m\u001b[1;33m(\u001b[0m\u001b[0mself\u001b[0m\u001b[1;33m.\u001b[0m\u001b[0m_maybe_cast_indexer\u001b[0m\u001b[1;33m(\u001b[0m\u001b[0mkey\u001b[0m\u001b[1;33m)\u001b[0m\u001b[1;33m)\u001b[0m\u001b[1;33m\u001b[0m\u001b[1;33m\u001b[0m\u001b[0m\n\u001b[0m\u001b[0;32m   2660\u001b[0m         \u001b[0mindexer\u001b[0m \u001b[1;33m=\u001b[0m \u001b[0mself\u001b[0m\u001b[1;33m.\u001b[0m\u001b[0mget_indexer\u001b[0m\u001b[1;33m(\u001b[0m\u001b[1;33m[\u001b[0m\u001b[0mkey\u001b[0m\u001b[1;33m]\u001b[0m\u001b[1;33m,\u001b[0m \u001b[0mmethod\u001b[0m\u001b[1;33m=\u001b[0m\u001b[0mmethod\u001b[0m\u001b[1;33m,\u001b[0m \u001b[0mtolerance\u001b[0m\u001b[1;33m=\u001b[0m\u001b[0mtolerance\u001b[0m\u001b[1;33m)\u001b[0m\u001b[1;33m\u001b[0m\u001b[1;33m\u001b[0m\u001b[0m\n\u001b[0;32m   2661\u001b[0m         \u001b[1;32mif\u001b[0m \u001b[0mindexer\u001b[0m\u001b[1;33m.\u001b[0m\u001b[0mndim\u001b[0m \u001b[1;33m>\u001b[0m \u001b[1;36m1\u001b[0m \u001b[1;32mor\u001b[0m \u001b[0mindexer\u001b[0m\u001b[1;33m.\u001b[0m\u001b[0msize\u001b[0m \u001b[1;33m>\u001b[0m \u001b[1;36m1\u001b[0m\u001b[1;33m:\u001b[0m\u001b[1;33m\u001b[0m\u001b[1;33m\u001b[0m\u001b[0m\n",
      "\u001b[1;32mpandas/_libs/index.pyx\u001b[0m in \u001b[0;36mpandas._libs.index.IndexEngine.get_loc\u001b[1;34m()\u001b[0m\n",
      "\u001b[1;32mpandas/_libs/index.pyx\u001b[0m in \u001b[0;36mpandas._libs.index.IndexEngine.get_loc\u001b[1;34m()\u001b[0m\n",
      "\u001b[1;32mpandas/_libs/hashtable_class_helper.pxi\u001b[0m in \u001b[0;36mpandas._libs.hashtable.PyObjectHashTable.get_item\u001b[1;34m()\u001b[0m\n",
      "\u001b[1;32mpandas/_libs/hashtable_class_helper.pxi\u001b[0m in \u001b[0;36mpandas._libs.hashtable.PyObjectHashTable.get_item\u001b[1;34m()\u001b[0m\n",
      "\u001b[1;31mKeyError\u001b[0m: 'catagory'"
     ]
    }
   ],
   "source": [
    "df_all[df_all[\"catagory\"]==\"Art & Dance\"]"
   ]
  },
  {
   "cell_type": "code",
   "execution_count": 119,
   "metadata": {},
   "outputs": [
    {
     "data": {
      "text/plain": [
       "catagory\n",
       "travel     K9OckN0yR_E\n",
       "travel     98H5AN_vfOY\n",
       "travel     rEbBUfiA_ZM\n",
       "travel     MtCMtC50gwY\n",
       "travel     Qyj62BMCqFE\n",
       "travel      -k5Il-uwvY\n",
       "travel     46SYtrSe-X4\n",
       "travel      DzVki4f0qZ\n",
       "travel     NCvwxJm-Rx8\n",
       "travel      gPwky7YSNx\n",
       "travel       rJTDG8oZ9\n",
       "travel     E5DkdeD2O6Q\n",
       "travel       TOt_8zC1M\n",
       "travel      kCpXIal84E\n",
       "travel     FjU_x1106pg\n",
       "travel     9G7-3CiQR8k\n",
       "travel       SQwH84iQ_\n",
       "travel     YtNTBEwm-6U\n",
       "travel       Ch_x33zzX\n",
       "travel      D5lul1NKaz\n",
       "travel      GCx4evUPtI\n",
       "travel     7ISrhzpTnmM\n",
       "travel      qZFuRyqoSl\n",
       "travel     2w6ephOxnTY\n",
       "travel     zaK7-Rmnyn8\n",
       "travel     WND2wx5S4t8\n",
       "travel     fHjZD39RL5Q\n",
       "travel     g4ipHoEAdSM\n",
       "travel       9f68LYlQK\n",
       "travel      K30NUv28sH\n",
       "              ...     \n",
       "History    7iru_3rZfSI\n",
       "History    Uj69tpL0kK8\n",
       "History    Qn6VL6Z0b7U\n",
       "History     7cteCj4gGA\n",
       "History     gloPC7-pYE\n",
       "History    Zl1m7YCvPc8\n",
       "History     jLJoOry4sY\n",
       "History     fQ9tGcPvhn\n",
       "History       8EYHx3d5\n",
       "History    z1mR_6Rbiqg\n",
       "History     3T-1P5eMqq\n",
       "History    FQ4l1bfCazM\n",
       "History    5_QWcaWi6jQ\n",
       "History    WyjN6hMLE1g\n",
       "History      6QQBfO16j\n",
       "History     GqTEj6fd3B\n",
       "History       R1CYiSwT\n",
       "History    DvioKeMmycE\n",
       "History    _Ry6yESsO1g\n",
       "History    97kzAo35GGM\n",
       "History    6-SsSlVOYYM\n",
       "History    URUjgy5oNXA\n",
       "History    L4E6tT85JWU\n",
       "History    BWGUgLerfp0\n",
       "History    Ynd6A3GMntQ\n",
       "History     g4ZEpbw1F0\n",
       "History    gCWvTgX9qXI\n",
       "History     WLb-p2iDZi\n",
       "History    X4l2-qRZvTM\n",
       "History    Bd3xk-T9wv8\n",
       "Name: link, Length: 7537, dtype: object"
      ]
     },
     "execution_count": 119,
     "metadata": {},
     "output_type": "execute_result"
    }
   ],
   "source": [
    "df_all.link"
   ]
  },
  {
   "cell_type": "code",
   "execution_count": 120,
   "metadata": {},
   "outputs": [],
   "source": [
    "df_all.to_csv(\"data2.csv\")"
   ]
  },
  {
   "cell_type": "code",
   "execution_count": 122,
   "metadata": {},
   "outputs": [],
   "source": [
    "data2=pd.read_csv(\"data2.csv\")"
   ]
  },
  {
   "cell_type": "code",
   "execution_count": 123,
   "metadata": {},
   "outputs": [
    {
     "data": {
      "text/html": [
       "<div>\n",
       "<style scoped>\n",
       "    .dataframe tbody tr th:only-of-type {\n",
       "        vertical-align: middle;\n",
       "    }\n",
       "\n",
       "    .dataframe tbody tr th {\n",
       "        vertical-align: top;\n",
       "    }\n",
       "\n",
       "    .dataframe thead th {\n",
       "        text-align: right;\n",
       "    }\n",
       "</style>\n",
       "<table border=\"1\" class=\"dataframe\">\n",
       "  <thead>\n",
       "    <tr style=\"text-align: right;\">\n",
       "      <th></th>\n",
       "      <th>catagory</th>\n",
       "      <th>Unnamed: 0</th>\n",
       "      <th>link</th>\n",
       "      <th>title</th>\n",
       "      <th>description</th>\n",
       "    </tr>\n",
       "  </thead>\n",
       "  <tbody>\n",
       "    <tr>\n",
       "      <th>0</th>\n",
       "      <td>travel</td>\n",
       "      <td>0</td>\n",
       "      <td>K9OckN0yR_E</td>\n",
       "      <td>India to USA : My trip begins</td>\n",
       "      <td>http://bit.ly/subscribeMT\\n\\nThis video is abo...</td>\n",
       "    </tr>\n",
       "    <tr>\n",
       "      <th>1</th>\n",
       "      <td>travel</td>\n",
       "      <td>1</td>\n",
       "      <td>98H5AN_vfOY</td>\n",
       "      <td>10 Top Tourist Attractions in the USA - Travel...</td>\n",
       "      <td>As one of the largest and most diverse countri...</td>\n",
       "    </tr>\n",
       "    <tr>\n",
       "      <th>2</th>\n",
       "      <td>travel</td>\n",
       "      <td>2</td>\n",
       "      <td>rEbBUfiA_ZM</td>\n",
       "      <td>A day in Boston | My USA trip 2018</td>\n",
       "      <td>http://bit.ly/subscribeMT\\n\\nThis video is abo...</td>\n",
       "    </tr>\n",
       "    <tr>\n",
       "      <th>3</th>\n",
       "      <td>travel</td>\n",
       "      <td>3</td>\n",
       "      <td>MtCMtC50gwY</td>\n",
       "      <td>New York City Vacation Travel Guide | Expedia</td>\n",
       "      <td>https://www.expedia.com/lp/destinatio...\\n\\nNe...</td>\n",
       "    </tr>\n",
       "    <tr>\n",
       "      <th>4</th>\n",
       "      <td>travel</td>\n",
       "      <td>4</td>\n",
       "      <td>Qyj62BMCqFE</td>\n",
       "      <td>EPIC USA Road Trip! (2,361 Miles, 21 Days, 7 S...</td>\n",
       "      <td>EPIC USA Road Trip! (2,361 miles, 21 Days, 7 S...</td>\n",
       "    </tr>\n",
       "  </tbody>\n",
       "</table>\n",
       "</div>"
      ],
      "text/plain": [
       "  catagory  Unnamed: 0         link  \\\n",
       "0   travel           0  K9OckN0yR_E   \n",
       "1   travel           1  98H5AN_vfOY   \n",
       "2   travel           2  rEbBUfiA_ZM   \n",
       "3   travel           3  MtCMtC50gwY   \n",
       "4   travel           4  Qyj62BMCqFE   \n",
       "\n",
       "                                               title  \\\n",
       "0                      India to USA : My trip begins   \n",
       "1  10 Top Tourist Attractions in the USA - Travel...   \n",
       "2                 A day in Boston | My USA trip 2018   \n",
       "3      New York City Vacation Travel Guide | Expedia   \n",
       "4  EPIC USA Road Trip! (2,361 Miles, 21 Days, 7 S...   \n",
       "\n",
       "                                         description  \n",
       "0  http://bit.ly/subscribeMT\\n\\nThis video is abo...  \n",
       "1  As one of the largest and most diverse countri...  \n",
       "2  http://bit.ly/subscribeMT\\n\\nThis video is abo...  \n",
       "3  https://www.expedia.com/lp/destinatio...\\n\\nNe...  \n",
       "4  EPIC USA Road Trip! (2,361 miles, 21 Days, 7 S...  "
      ]
     },
     "execution_count": 123,
     "metadata": {},
     "output_type": "execute_result"
    }
   ],
   "source": [
    "data2.head()"
   ]
  },
  {
   "cell_type": "code",
   "execution_count": 124,
   "metadata": {},
   "outputs": [
    {
     "data": {
      "text/plain": [
       "0        travel\n",
       "1        travel\n",
       "2        travel\n",
       "3        travel\n",
       "4        travel\n",
       "5        travel\n",
       "6        travel\n",
       "7        travel\n",
       "8        travel\n",
       "9        travel\n",
       "10       travel\n",
       "11       travel\n",
       "12       travel\n",
       "13       travel\n",
       "14       travel\n",
       "15       travel\n",
       "16       travel\n",
       "17       travel\n",
       "18       travel\n",
       "19       travel\n",
       "20       travel\n",
       "21       travel\n",
       "22       travel\n",
       "23       travel\n",
       "24       travel\n",
       "25       travel\n",
       "26       travel\n",
       "27       travel\n",
       "28       travel\n",
       "29       travel\n",
       "         ...   \n",
       "7507    History\n",
       "7508    History\n",
       "7509    History\n",
       "7510    History\n",
       "7511    History\n",
       "7512    History\n",
       "7513    History\n",
       "7514    History\n",
       "7515    History\n",
       "7516    History\n",
       "7517    History\n",
       "7518    History\n",
       "7519    History\n",
       "7520    History\n",
       "7521    History\n",
       "7522    History\n",
       "7523    History\n",
       "7524    History\n",
       "7525    History\n",
       "7526    History\n",
       "7527    History\n",
       "7528    History\n",
       "7529    History\n",
       "7530    History\n",
       "7531    History\n",
       "7532    History\n",
       "7533    History\n",
       "7534    History\n",
       "7535    History\n",
       "7536    History\n",
       "Name: catagory, Length: 7537, dtype: object"
      ]
     },
     "execution_count": 124,
     "metadata": {},
     "output_type": "execute_result"
    }
   ],
   "source": [
    "data2.catagory"
   ]
  },
  {
   "cell_type": "code",
   "execution_count": 125,
   "metadata": {},
   "outputs": [],
   "source": [
    "df1=pd.read_csv(\"Music1.csv\")\n",
    "df2=pd.read_csv(\"Music2.csv\")"
   ]
  },
  {
   "cell_type": "code",
   "execution_count": 127,
   "metadata": {},
   "outputs": [
    {
     "name": "stderr",
     "output_type": "stream",
     "text": [
      "C:\\Users\\MAHE\\Anaconda3\\lib\\site-packages\\ipykernel_launcher.py:3: FutureWarning: Sorting because non-concatenation axis is not aligned. A future version\n",
      "of pandas will change to not sort by default.\n",
      "\n",
      "To accept the future behavior, pass 'sort=False'.\n",
      "\n",
      "To retain the current behavior and silence the warning, pass 'sort=True'.\n",
      "\n",
      "  This is separate from the ipykernel package so we can avoid doing imports until\n"
     ]
    }
   ],
   "source": [
    "frames = [data2,df1,df2]\n",
    "data2 = pd.concat(frames, axis=0, join='outer', join_axes=None, ignore_index=True,\n",
    "                            keys=None, levels=None, names=None, verify_integrity=False, copy=True)"
   ]
  },
  {
   "cell_type": "code",
   "execution_count": 128,
   "metadata": {},
   "outputs": [
    {
     "data": {
      "text/html": [
       "<div>\n",
       "<style scoped>\n",
       "    .dataframe tbody tr th:only-of-type {\n",
       "        vertical-align: middle;\n",
       "    }\n",
       "\n",
       "    .dataframe tbody tr th {\n",
       "        vertical-align: top;\n",
       "    }\n",
       "\n",
       "    .dataframe thead th {\n",
       "        text-align: right;\n",
       "    }\n",
       "</style>\n",
       "<table border=\"1\" class=\"dataframe\">\n",
       "  <thead>\n",
       "    <tr style=\"text-align: right;\">\n",
       "      <th></th>\n",
       "      <th>Unnamed: 0</th>\n",
       "      <th>catagory</th>\n",
       "      <th>description</th>\n",
       "      <th>link</th>\n",
       "      <th>title</th>\n",
       "    </tr>\n",
       "  </thead>\n",
       "  <tbody>\n",
       "    <tr>\n",
       "      <th>0</th>\n",
       "      <td>0</td>\n",
       "      <td>travel</td>\n",
       "      <td>http://bit.ly/subscribeMT\\n\\nThis video is abo...</td>\n",
       "      <td>K9OckN0yR_E</td>\n",
       "      <td>India to USA : My trip begins</td>\n",
       "    </tr>\n",
       "    <tr>\n",
       "      <th>1</th>\n",
       "      <td>1</td>\n",
       "      <td>travel</td>\n",
       "      <td>As one of the largest and most diverse countri...</td>\n",
       "      <td>98H5AN_vfOY</td>\n",
       "      <td>10 Top Tourist Attractions in the USA - Travel...</td>\n",
       "    </tr>\n",
       "    <tr>\n",
       "      <th>2</th>\n",
       "      <td>2</td>\n",
       "      <td>travel</td>\n",
       "      <td>http://bit.ly/subscribeMT\\n\\nThis video is abo...</td>\n",
       "      <td>rEbBUfiA_ZM</td>\n",
       "      <td>A day in Boston | My USA trip 2018</td>\n",
       "    </tr>\n",
       "    <tr>\n",
       "      <th>3</th>\n",
       "      <td>3</td>\n",
       "      <td>travel</td>\n",
       "      <td>https://www.expedia.com/lp/destinatio...\\n\\nNe...</td>\n",
       "      <td>MtCMtC50gwY</td>\n",
       "      <td>New York City Vacation Travel Guide | Expedia</td>\n",
       "    </tr>\n",
       "    <tr>\n",
       "      <th>4</th>\n",
       "      <td>4</td>\n",
       "      <td>travel</td>\n",
       "      <td>EPIC USA Road Trip! (2,361 miles, 21 Days, 7 S...</td>\n",
       "      <td>Qyj62BMCqFE</td>\n",
       "      <td>EPIC USA Road Trip! (2,361 Miles, 21 Days, 7 S...</td>\n",
       "    </tr>\n",
       "  </tbody>\n",
       "</table>\n",
       "</div>"
      ],
      "text/plain": [
       "   Unnamed: 0 catagory                                        description  \\\n",
       "0           0   travel  http://bit.ly/subscribeMT\\n\\nThis video is abo...   \n",
       "1           1   travel  As one of the largest and most diverse countri...   \n",
       "2           2   travel  http://bit.ly/subscribeMT\\n\\nThis video is abo...   \n",
       "3           3   travel  https://www.expedia.com/lp/destinatio...\\n\\nNe...   \n",
       "4           4   travel  EPIC USA Road Trip! (2,361 miles, 21 Days, 7 S...   \n",
       "\n",
       "          link                                              title  \n",
       "0  K9OckN0yR_E                      India to USA : My trip begins  \n",
       "1  98H5AN_vfOY  10 Top Tourist Attractions in the USA - Travel...  \n",
       "2  rEbBUfiA_ZM                 A day in Boston | My USA trip 2018  \n",
       "3  MtCMtC50gwY      New York City Vacation Travel Guide | Expedia  \n",
       "4  Qyj62BMCqFE  EPIC USA Road Trip! (2,361 Miles, 21 Days, 7 S...  "
      ]
     },
     "execution_count": 128,
     "metadata": {},
     "output_type": "execute_result"
    }
   ],
   "source": [
    "data2.head()"
   ]
  },
  {
   "cell_type": "code",
   "execution_count": null,
   "metadata": {},
   "outputs": [],
   "source": []
  }
 ],
 "metadata": {
  "kernelspec": {
   "display_name": "Python 3",
   "language": "python",
   "name": "python3"
  },
  "language_info": {
   "codemirror_mode": {
    "name": "ipython",
    "version": 3
   },
   "file_extension": ".py",
   "mimetype": "text/x-python",
   "name": "python",
   "nbconvert_exporter": "python",
   "pygments_lexer": "ipython3",
   "version": "3.7.3"
  }
 },
 "nbformat": 4,
 "nbformat_minor": 2
}
