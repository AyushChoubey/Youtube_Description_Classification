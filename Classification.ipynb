{
  "nbformat": 4,
  "nbformat_minor": 0,
  "metadata": {
    "colab": {
      "name": "Precily_.ipynb",
      "version": "0.3.2",
      "provenance": [],
      "collapsed_sections": []
    },
    "kernelspec": {
      "name": "python3",
      "display_name": "Python 3"
    },
    "accelerator": "GPU"
  },
  "cells": [
    {
      "cell_type": "code",
      "metadata": {
        "id": "KLG5ETFUhrte",
        "colab_type": "code",
        "colab": {}
      },
      "source": [
        "import csv\n",
        "import nltk\n",
        "from sklearn.metrics import confusion_matrix\n",
        "import sys, os, re, csv, codecs, numpy as np, pandas as pd\n",
        "import matplotlib.pyplot as plt\n",
        "%matplotlib inline\n",
        "from keras.preprocessing.text import Tokenizer\n",
        "from keras.preprocessing.sequence import pad_sequences\n",
        "from keras.layers import Dense, Input, LSTM, Embedding, Dropout, Activation\n",
        "from keras.layers import Bidirectional, GlobalMaxPool1D\n",
        "from keras.models import Model\n",
        "from keras import initializers, regularizers, constraints, optimizers, layers\n",
        "from sklearn.model_selection import train_test_split\n",
        "from sklearn.preprocessing import StandardScaler\n",
        "from sklearn.model_selection import *\n",
        "from sklearn import svm\n",
        "from sklearn.preprocessing import MinMaxScaler\n",
        "from sklearn import linear_model\n",
        "from sklearn.metrics import *"
      ],
      "execution_count": 0,
      "outputs": []
    },
    {
      "cell_type": "code",
      "metadata": {
        "id": "Ra0z57dU5IFb",
        "colab_type": "code",
        "outputId": "6d090fd6-b754-4be6-b297-7840acb72b88",
        "colab": {
          "base_uri": "https://localhost:8080/",
          "height": 34
        }
      },
      "source": [
        "from google.colab import drive\n",
        "drive.mount('/content/gdrive')"
      ],
      "execution_count": 0,
      "outputs": [
        {
          "output_type": "stream",
          "text": [
            "Drive already mounted at /content/gdrive; to attempt to forcibly remount, call drive.mount(\"/content/gdrive\", force_remount=True).\n"
          ],
          "name": "stdout"
        }
      ]
    },
    {
      "cell_type": "code",
      "metadata": {
        "id": "HGO-977x6E6D",
        "colab_type": "code",
        "colab": {}
      },
      "source": [
        "data=pd.read_csv('/content/gdrive/My Drive/precily/data_t.csv')"
      ],
      "execution_count": 0,
      "outputs": []
    },
    {
      "cell_type": "code",
      "metadata": {
        "id": "YWnT_IIilt00",
        "colab_type": "code",
        "outputId": "5452649d-1d64-4a22-f4f9-872c3747a03c",
        "colab": {
          "base_uri": "https://localhost:8080/",
          "height": 204
        }
      },
      "source": [
        "data.head()"
      ],
      "execution_count": 0,
      "outputs": [
        {
          "output_type": "execute_result",
          "data": {
            "text/html": [
              "<div>\n",
              "<style scoped>\n",
              "    .dataframe tbody tr th:only-of-type {\n",
              "        vertical-align: middle;\n",
              "    }\n",
              "\n",
              "    .dataframe tbody tr th {\n",
              "        vertical-align: top;\n",
              "    }\n",
              "\n",
              "    .dataframe thead th {\n",
              "        text-align: right;\n",
              "    }\n",
              "</style>\n",
              "<table border=\"1\" class=\"dataframe\">\n",
              "  <thead>\n",
              "    <tr style=\"text-align: right;\">\n",
              "      <th></th>\n",
              "      <th>Unnamed: 0</th>\n",
              "      <th>Unnamed: 0.1</th>\n",
              "      <th>link</th>\n",
              "      <th>title</th>\n",
              "      <th>description</th>\n",
              "      <th>catagory</th>\n",
              "    </tr>\n",
              "  </thead>\n",
              "  <tbody>\n",
              "    <tr>\n",
              "      <th>0</th>\n",
              "      <td>0</td>\n",
              "      <td>0</td>\n",
              "      <td>FGe3KhkNx</td>\n",
              "      <td>Mouthwatering INDIAN STREET FOOD Breakfast Tou...</td>\n",
              "      <td>Subscribe to my channel ► http://bit.ly/DBH-SU...</td>\n",
              "      <td>Food</td>\n",
              "    </tr>\n",
              "    <tr>\n",
              "      <th>1</th>\n",
              "      <td>1</td>\n",
              "      <td>1</td>\n",
              "      <td>0SPwwpruGIA</td>\n",
              "      <td>42 Foods You Need To Eat Before You Die | The ...</td>\n",
              "      <td>This is the ultimate must-try food bucket list...</td>\n",
              "      <td>Food</td>\n",
              "    </tr>\n",
              "    <tr>\n",
              "      <th>2</th>\n",
              "      <td>2</td>\n",
              "      <td>2</td>\n",
              "      <td>XwHurP9RH-</td>\n",
              "      <td>42 Cheesy Foods You Need To Eat Before You Die...</td>\n",
              "      <td>From pizza pot pies to cheeseburger dumplings,...</td>\n",
              "      <td>Food</td>\n",
              "    </tr>\n",
              "    <tr>\n",
              "      <th>3</th>\n",
              "      <td>3</td>\n",
              "      <td>3</td>\n",
              "      <td>M0OC-rYVvy8</td>\n",
              "      <td>CHOOSE THE BOWL CHALLENGE | Bowl Challenge | B...</td>\n",
              "      <td>Download Azar and make new friends: https://bi...</td>\n",
              "      <td>Food</td>\n",
              "    </tr>\n",
              "    <tr>\n",
              "      <th>4</th>\n",
              "      <td>4</td>\n",
              "      <td>4</td>\n",
              "      <td>T6pwKbBcS8U</td>\n",
              "      <td>Phuket Food | Luxury Resort</td>\n",
              "      <td>Buffet for Breakfast, Veg Pizza for Lunch and ...</td>\n",
              "      <td>Food</td>\n",
              "    </tr>\n",
              "  </tbody>\n",
              "</table>\n",
              "</div>"
            ],
            "text/plain": [
              "   Unnamed: 0  ...  catagory\n",
              "0           0  ...      Food\n",
              "1           1  ...      Food\n",
              "2           2  ...      Food\n",
              "3           3  ...      Food\n",
              "4           4  ...      Food\n",
              "\n",
              "[5 rows x 6 columns]"
            ]
          },
          "metadata": {
            "tags": []
          },
          "execution_count": 173
        }
      ]
    },
    {
      "cell_type": "markdown",
      "metadata": {
        "id": "SY2a3aRMl2q1",
        "colab_type": "text"
      },
      "source": [
        "##Cleaning the data and Preprocessing"
      ]
    },
    {
      "cell_type": "code",
      "metadata": {
        "id": "bOb3sWVCl9ZK",
        "colab_type": "code",
        "colab": {}
      },
      "source": [
        "data1=data.iloc[:,1:]"
      ],
      "execution_count": 0,
      "outputs": []
    },
    {
      "cell_type": "code",
      "metadata": {
        "id": "4Z1jOyzs8Y3r",
        "colab_type": "code",
        "outputId": "b966a014-6193-4f64-b322-9621e692d6d1",
        "colab": {
          "base_uri": "https://localhost:8080/",
          "height": 204
        }
      },
      "source": [
        "data1.head()"
      ],
      "execution_count": 0,
      "outputs": [
        {
          "output_type": "execute_result",
          "data": {
            "text/html": [
              "<div>\n",
              "<style scoped>\n",
              "    .dataframe tbody tr th:only-of-type {\n",
              "        vertical-align: middle;\n",
              "    }\n",
              "\n",
              "    .dataframe tbody tr th {\n",
              "        vertical-align: top;\n",
              "    }\n",
              "\n",
              "    .dataframe thead th {\n",
              "        text-align: right;\n",
              "    }\n",
              "</style>\n",
              "<table border=\"1\" class=\"dataframe\">\n",
              "  <thead>\n",
              "    <tr style=\"text-align: right;\">\n",
              "      <th></th>\n",
              "      <th>Unnamed: 0.1</th>\n",
              "      <th>link</th>\n",
              "      <th>title</th>\n",
              "      <th>description</th>\n",
              "      <th>catagory</th>\n",
              "    </tr>\n",
              "  </thead>\n",
              "  <tbody>\n",
              "    <tr>\n",
              "      <th>0</th>\n",
              "      <td>0</td>\n",
              "      <td>FGe3KhkNx</td>\n",
              "      <td>Mouthwatering INDIAN STREET FOOD Breakfast Tou...</td>\n",
              "      <td>Subscribe to my channel ► http://bit.ly/DBH-SU...</td>\n",
              "      <td>Food</td>\n",
              "    </tr>\n",
              "    <tr>\n",
              "      <th>1</th>\n",
              "      <td>1</td>\n",
              "      <td>0SPwwpruGIA</td>\n",
              "      <td>42 Foods You Need To Eat Before You Die | The ...</td>\n",
              "      <td>This is the ultimate must-try food bucket list...</td>\n",
              "      <td>Food</td>\n",
              "    </tr>\n",
              "    <tr>\n",
              "      <th>2</th>\n",
              "      <td>2</td>\n",
              "      <td>XwHurP9RH-</td>\n",
              "      <td>42 Cheesy Foods You Need To Eat Before You Die...</td>\n",
              "      <td>From pizza pot pies to cheeseburger dumplings,...</td>\n",
              "      <td>Food</td>\n",
              "    </tr>\n",
              "    <tr>\n",
              "      <th>3</th>\n",
              "      <td>3</td>\n",
              "      <td>M0OC-rYVvy8</td>\n",
              "      <td>CHOOSE THE BOWL CHALLENGE | Bowl Challenge | B...</td>\n",
              "      <td>Download Azar and make new friends: https://bi...</td>\n",
              "      <td>Food</td>\n",
              "    </tr>\n",
              "    <tr>\n",
              "      <th>4</th>\n",
              "      <td>4</td>\n",
              "      <td>T6pwKbBcS8U</td>\n",
              "      <td>Phuket Food | Luxury Resort</td>\n",
              "      <td>Buffet for Breakfast, Veg Pizza for Lunch and ...</td>\n",
              "      <td>Food</td>\n",
              "    </tr>\n",
              "  </tbody>\n",
              "</table>\n",
              "</div>"
            ],
            "text/plain": [
              "   Unnamed: 0.1  ... catagory\n",
              "0             0  ...     Food\n",
              "1             1  ...     Food\n",
              "2             2  ...     Food\n",
              "3             3  ...     Food\n",
              "4             4  ...     Food\n",
              "\n",
              "[5 rows x 5 columns]"
            ]
          },
          "metadata": {
            "tags": []
          },
          "execution_count": 175
        }
      ]
    },
    {
      "cell_type": "code",
      "metadata": {
        "id": "85uLPoJCApDl",
        "colab_type": "code",
        "outputId": "80bc092b-5c46-4042-a9a3-04b67eab0464",
        "colab": {
          "base_uri": "https://localhost:8080/",
          "height": 119
        }
      },
      "source": [
        "data1.dtypes"
      ],
      "execution_count": 0,
      "outputs": [
        {
          "output_type": "execute_result",
          "data": {
            "text/plain": [
              "Unnamed: 0.1     int64\n",
              "link            object\n",
              "title           object\n",
              "description     object\n",
              "catagory        object\n",
              "dtype: object"
            ]
          },
          "metadata": {
            "tags": []
          },
          "execution_count": 176
        }
      ]
    },
    {
      "cell_type": "code",
      "metadata": {
        "id": "oYAIfwC4Btrp",
        "colab_type": "code",
        "colab": {}
      },
      "source": [
        "data1= data1[data1['description'].notnull()]"
      ],
      "execution_count": 0,
      "outputs": []
    },
    {
      "cell_type": "code",
      "metadata": {
        "id": "Hl2Cc2wC-k5W",
        "colab_type": "code",
        "outputId": "c7c3d29d-fe43-49a7-b066-fb9f12f1f538",
        "colab": {
          "base_uri": "https://localhost:8080/",
          "height": 34
        }
      },
      "source": [
        "data1.shape"
      ],
      "execution_count": 0,
      "outputs": [
        {
          "output_type": "execute_result",
          "data": {
            "text/plain": [
              "(7057, 5)"
            ]
          },
          "metadata": {
            "tags": []
          },
          "execution_count": 178
        }
      ]
    },
    {
      "cell_type": "code",
      "metadata": {
        "id": "FWsav_VX-yD1",
        "colab_type": "code",
        "outputId": "860b8325-fd9f-4ae4-f1bf-7c7de657bdbb",
        "colab": {
          "base_uri": "https://localhost:8080/",
          "height": 119
        }
      },
      "source": [
        "# removing punctiuations\n",
        "data1['title'] = data1['title'].str.replace('[^\\w\\s]','')\n",
        "data1['title'].head()"
      ],
      "execution_count": 0,
      "outputs": [
        {
          "output_type": "execute_result",
          "data": {
            "text/plain": [
              "0    Mouthwatering INDIAN STREET FOOD Breakfast Tou...\n",
              "1    42 Foods You Need To Eat Before You Die  The U...\n",
              "2    42 Cheesy Foods You Need To Eat Before You Die...\n",
              "3    CHOOSE THE BOWL CHALLENGE  Bowl Challenge  Bro...\n",
              "4                           Phuket Food  Luxury Resort\n",
              "Name: title, dtype: object"
            ]
          },
          "metadata": {
            "tags": []
          },
          "execution_count": 179
        }
      ]
    },
    {
      "cell_type": "code",
      "metadata": {
        "id": "XHYzy5Ur_bOt",
        "colab_type": "code",
        "outputId": "d13c4381-de18-40e9-f811-bf8ce7bc5537",
        "colab": {
          "base_uri": "https://localhost:8080/",
          "height": 119
        }
      },
      "source": [
        "data1['description'] = data1['description'].str.replace('[^\\w\\s]','')\n",
        "data1['description'].head()"
      ],
      "execution_count": 0,
      "outputs": [
        {
          "output_type": "execute_result",
          "data": {
            "text/plain": [
              "0    Subscribe to my channel  httpbitlyDBHSUB \\nChe...\n",
              "1    This is the ultimate musttry food bucket list ...\n",
              "2    From pizza pot pies to cheeseburger dumplings ...\n",
              "3    Download Azar and make new friends httpsbitly2...\n",
              "4    Buffet for Breakfast Veg Pizza for Lunch and T...\n",
              "Name: description, dtype: object"
            ]
          },
          "metadata": {
            "tags": []
          },
          "execution_count": 180
        }
      ]
    },
    {
      "cell_type": "code",
      "metadata": {
        "id": "x-n2GOSE_2j1",
        "colab_type": "code",
        "outputId": "53878264-13f9-4145-bb56-7e496efd97fd",
        "colab": {
          "base_uri": "https://localhost:8080/",
          "height": 119
        }
      },
      "source": [
        "#making_lowercase\n",
        "#join return the str which is connected by \" \"\n",
        "data1['title'] = data1['title'].apply(lambda x: \" \".join(x.lower() for x in x.split()))\n",
        "data1['title'].head()\n"
      ],
      "execution_count": 0,
      "outputs": [
        {
          "output_type": "execute_result",
          "data": {
            "text/plain": [
              "0    mouthwatering indian street food breakfast tou...\n",
              "1    42 foods you need to eat before you die the ul...\n",
              "2    42 cheesy foods you need to eat before you die...\n",
              "3    choose the bowl challenge bowl challenge broth...\n",
              "4                            phuket food luxury resort\n",
              "Name: title, dtype: object"
            ]
          },
          "metadata": {
            "tags": []
          },
          "execution_count": 181
        }
      ]
    },
    {
      "cell_type": "code",
      "metadata": {
        "id": "byNCEth-AYzS",
        "colab_type": "code",
        "outputId": "c4927880-6d78-49f9-ecdc-e625cf8a49b8",
        "colab": {
          "base_uri": "https://localhost:8080/",
          "height": 119
        }
      },
      "source": [
        "data1['description'] = data1['description'].apply(lambda x: \" \".join(x.lower() for x in x.split()))\n",
        "data1['description'].head()\n"
      ],
      "execution_count": 0,
      "outputs": [
        {
          "output_type": "execute_result",
          "data": {
            "text/plain": [
              "0    subscribe to my channel httpbitlydbhsub check ...\n",
              "1    this is the ultimate musttry food bucket list ...\n",
              "2    from pizza pot pies to cheeseburger dumplings ...\n",
              "3    download azar and make new friends httpsbitly2...\n",
              "4    buffet for breakfast veg pizza for lunch and t...\n",
              "Name: description, dtype: object"
            ]
          },
          "metadata": {
            "tags": []
          },
          "execution_count": 182
        }
      ]
    },
    {
      "cell_type": "code",
      "metadata": {
        "id": "dXXyiShoCAtE",
        "colab_type": "code",
        "outputId": "b9c5fefb-da2e-46d8-8646-39043ac31942",
        "colab": {
          "base_uri": "https://localhost:8080/",
          "height": 153
        }
      },
      "source": [
        "#stop word removal\n",
        "import nltk\n",
        "nltk.download('stopwords')\n",
        "  \n",
        "\n",
        "from nltk.corpus import stopwords\n",
        "stop = stopwords.words('english')\n",
        "data1['title'] = data1['title'].apply(lambda x: \" \".join(x for x in x.split() if x not in stop))\n",
        "data1['title'].head()\n",
        "\n",
        "\n"
      ],
      "execution_count": 0,
      "outputs": [
        {
          "output_type": "stream",
          "text": [
            "[nltk_data] Downloading package stopwords to /root/nltk_data...\n",
            "[nltk_data]   Package stopwords is already up-to-date!\n"
          ],
          "name": "stdout"
        },
        {
          "output_type": "execute_result",
          "data": {
            "text/plain": [
              "0    mouthwatering indian street food breakfast tou...\n",
              "1                  42 foods need eat die ultimate list\n",
              "2           42 cheesy foods need eat die ultimate list\n",
              "3    choose bowl challenge bowl challenge brother v...\n",
              "4                            phuket food luxury resort\n",
              "Name: title, dtype: object"
            ]
          },
          "metadata": {
            "tags": []
          },
          "execution_count": 183
        }
      ]
    },
    {
      "cell_type": "code",
      "metadata": {
        "id": "dukpRGv2C8F8",
        "colab_type": "code",
        "outputId": "5757b065-51f2-49b0-970f-e924978b1eef",
        "colab": {
          "base_uri": "https://localhost:8080/",
          "height": 119
        }
      },
      "source": [
        "#same for description column\n",
        "stop = stopwords.words('english')\n",
        "data1['description'] = data1['description'].apply(lambda x: \" \".join(x for x in x.split() if x not in stop))\n",
        "data1['description'].head()"
      ],
      "execution_count": 0,
      "outputs": [
        {
          "output_type": "execute_result",
          "data": {
            "text/plain": [
              "0    subscribe channel httpbitlydbhsub check blog h...\n",
              "1    ultimate musttry food bucket list burgers dipp...\n",
              "2    pizza pot pies cheeseburger dumplings 42 chees...\n",
              "3    download azar make new friends httpsbitly2vyth...\n",
              "4    buffet breakfast veg pizza lunch thailand stre...\n",
              "Name: description, dtype: object"
            ]
          },
          "metadata": {
            "tags": []
          },
          "execution_count": 184
        }
      ]
    },
    {
      "cell_type": "code",
      "metadata": {
        "id": "KgNEuz0mDaJ6",
        "colab_type": "code",
        "outputId": "ed335115-2cd1-4f9f-8351-15f7e47b3ce5",
        "colab": {
          "base_uri": "https://localhost:8080/",
          "height": 119
        }
      },
      "source": [
        "#stemming\n",
        "from nltk.stem import PorterStemmer\n",
        "st = PorterStemmer()\n",
        "data1['title'].apply(lambda x: \" \".join([st.stem(word) for word in x.split()]))\n",
        "data1['title'].head()"
      ],
      "execution_count": 0,
      "outputs": [
        {
          "output_type": "execute_result",
          "data": {
            "text/plain": [
              "0    mouthwatering indian street food breakfast tou...\n",
              "1                  42 foods need eat die ultimate list\n",
              "2           42 cheesy foods need eat die ultimate list\n",
              "3    choose bowl challenge bowl challenge brother v...\n",
              "4                            phuket food luxury resort\n",
              "Name: title, dtype: object"
            ]
          },
          "metadata": {
            "tags": []
          },
          "execution_count": 185
        }
      ]
    },
    {
      "cell_type": "code",
      "metadata": {
        "id": "tuxdlzjCDwDc",
        "colab_type": "code",
        "outputId": "a7aa0144-28dc-4ab8-9c23-61a58b8e5401",
        "colab": {
          "base_uri": "https://localhost:8080/",
          "height": 119
        }
      },
      "source": [
        "data1['description'].apply(lambda x: \" \".join([st.stem(word) for word in x.split()]))\n",
        "data1['description'].head()"
      ],
      "execution_count": 0,
      "outputs": [
        {
          "output_type": "execute_result",
          "data": {
            "text/plain": [
              "0    subscribe channel httpbitlydbhsub check blog h...\n",
              "1    ultimate musttry food bucket list burgers dipp...\n",
              "2    pizza pot pies cheeseburger dumplings 42 chees...\n",
              "3    download azar make new friends httpsbitly2vyth...\n",
              "4    buffet breakfast veg pizza lunch thailand stre...\n",
              "Name: description, dtype: object"
            ]
          },
          "metadata": {
            "tags": []
          },
          "execution_count": 186
        }
      ]
    },
    {
      "cell_type": "code",
      "metadata": {
        "id": "a9rwPHN7C4os",
        "colab_type": "code",
        "outputId": "16e97d24-cb5b-49a0-c97e-98e5ca32bc18",
        "colab": {
          "base_uri": "https://localhost:8080/",
          "height": 204
        }
      },
      "source": [
        "data2=data1.iloc[:,1:]\n",
        "data2.head()"
      ],
      "execution_count": 0,
      "outputs": [
        {
          "output_type": "execute_result",
          "data": {
            "text/html": [
              "<div>\n",
              "<style scoped>\n",
              "    .dataframe tbody tr th:only-of-type {\n",
              "        vertical-align: middle;\n",
              "    }\n",
              "\n",
              "    .dataframe tbody tr th {\n",
              "        vertical-align: top;\n",
              "    }\n",
              "\n",
              "    .dataframe thead th {\n",
              "        text-align: right;\n",
              "    }\n",
              "</style>\n",
              "<table border=\"1\" class=\"dataframe\">\n",
              "  <thead>\n",
              "    <tr style=\"text-align: right;\">\n",
              "      <th></th>\n",
              "      <th>link</th>\n",
              "      <th>title</th>\n",
              "      <th>description</th>\n",
              "      <th>catagory</th>\n",
              "    </tr>\n",
              "  </thead>\n",
              "  <tbody>\n",
              "    <tr>\n",
              "      <th>0</th>\n",
              "      <td>FGe3KhkNx</td>\n",
              "      <td>mouthwatering indian street food breakfast tou...</td>\n",
              "      <td>subscribe channel httpbitlydbhsub check blog h...</td>\n",
              "      <td>Food</td>\n",
              "    </tr>\n",
              "    <tr>\n",
              "      <th>1</th>\n",
              "      <td>0SPwwpruGIA</td>\n",
              "      <td>42 foods need eat die ultimate list</td>\n",
              "      <td>ultimate musttry food bucket list burgers dipp...</td>\n",
              "      <td>Food</td>\n",
              "    </tr>\n",
              "    <tr>\n",
              "      <th>2</th>\n",
              "      <td>XwHurP9RH-</td>\n",
              "      <td>42 cheesy foods need eat die ultimate list</td>\n",
              "      <td>pizza pot pies cheeseburger dumplings 42 chees...</td>\n",
              "      <td>Food</td>\n",
              "    </tr>\n",
              "    <tr>\n",
              "      <th>3</th>\n",
              "      <td>M0OC-rYVvy8</td>\n",
              "      <td>choose bowl challenge bowl challenge brother v...</td>\n",
              "      <td>download azar make new friends httpsbitly2vyth...</td>\n",
              "      <td>Food</td>\n",
              "    </tr>\n",
              "    <tr>\n",
              "      <th>4</th>\n",
              "      <td>T6pwKbBcS8U</td>\n",
              "      <td>phuket food luxury resort</td>\n",
              "      <td>buffet breakfast veg pizza lunch thailand stre...</td>\n",
              "      <td>Food</td>\n",
              "    </tr>\n",
              "  </tbody>\n",
              "</table>\n",
              "</div>"
            ],
            "text/plain": [
              "          link  ... catagory\n",
              "0    FGe3KhkNx  ...     Food\n",
              "1  0SPwwpruGIA  ...     Food\n",
              "2   XwHurP9RH-  ...     Food\n",
              "3  M0OC-rYVvy8  ...     Food\n",
              "4  T6pwKbBcS8U  ...     Food\n",
              "\n",
              "[5 rows x 4 columns]"
            ]
          },
          "metadata": {
            "tags": []
          },
          "execution_count": 187
        }
      ]
    },
    {
      "cell_type": "code",
      "metadata": {
        "id": "CEyNtV9NH3B_",
        "colab_type": "code",
        "outputId": "54299b95-04b1-4cdf-def5-b051cb41fcd5",
        "colab": {
          "base_uri": "https://localhost:8080/",
          "height": 204
        }
      },
      "source": [
        "#reshuffling the data so that our model can not learn based on the catagory pattern\n",
        "data2=data2.sample(frac=1).reset_index(drop=True)\n",
        "data2.head()"
      ],
      "execution_count": 0,
      "outputs": [
        {
          "output_type": "execute_result",
          "data": {
            "text/html": [
              "<div>\n",
              "<style scoped>\n",
              "    .dataframe tbody tr th:only-of-type {\n",
              "        vertical-align: middle;\n",
              "    }\n",
              "\n",
              "    .dataframe tbody tr th {\n",
              "        vertical-align: top;\n",
              "    }\n",
              "\n",
              "    .dataframe thead th {\n",
              "        text-align: right;\n",
              "    }\n",
              "</style>\n",
              "<table border=\"1\" class=\"dataframe\">\n",
              "  <thead>\n",
              "    <tr style=\"text-align: right;\">\n",
              "      <th></th>\n",
              "      <th>link</th>\n",
              "      <th>title</th>\n",
              "      <th>description</th>\n",
              "      <th>catagory</th>\n",
              "    </tr>\n",
              "  </thead>\n",
              "  <tbody>\n",
              "    <tr>\n",
              "      <th>0</th>\n",
              "      <td>znqkM9Ttom4</td>\n",
              "      <td>hollow metal doors manufacturing process</td>\n",
              "      <td>explains make hollow metal doors start finish ...</td>\n",
              "      <td>Manufacturing</td>\n",
              "    </tr>\n",
              "    <tr>\n",
              "      <th>1</th>\n",
              "      <td>V_Rw8hyWI</td>\n",
              "      <td>2019 honda accord manufacturing honda accord 2...</td>\n",
              "      <td>2019 honda accord manufacturing honda accord 2...</td>\n",
              "      <td>Manufacturing</td>\n",
              "    </tr>\n",
              "    <tr>\n",
              "      <th>2</th>\n",
              "      <td>fYezB4eY</td>\n",
              "      <td>amazing arts crafts</td>\n",
              "      <td>amazing arts crafts blow mind amazing videos s...</td>\n",
              "      <td>Arts and Music</td>\n",
              "    </tr>\n",
              "    <tr>\n",
              "      <th>3</th>\n",
              "      <td>j7B8ChO8XeE</td>\n",
              "      <td>introduction ibm watson studio previously call...</td>\n",
              "      <td>ready dip toes data science pool see ibm watso...</td>\n",
              "      <td>Science and Technology</td>\n",
              "    </tr>\n",
              "    <tr>\n",
              "      <th>4</th>\n",
              "      <td>dpa2Z-cRowU</td>\n",
              "      <td>traveling alone first time</td>\n",
              "      <td>stay tuned part 2 hehe hannah meloche instagra...</td>\n",
              "      <td>travel</td>\n",
              "    </tr>\n",
              "  </tbody>\n",
              "</table>\n",
              "</div>"
            ],
            "text/plain": [
              "          link  ...                catagory\n",
              "0  znqkM9Ttom4  ...           Manufacturing\n",
              "1    V_Rw8hyWI  ...           Manufacturing\n",
              "2     fYezB4eY  ...          Arts and Music\n",
              "3  j7B8ChO8XeE  ...  Science and Technology\n",
              "4  dpa2Z-cRowU  ...                  travel\n",
              "\n",
              "[5 rows x 4 columns]"
            ]
          },
          "metadata": {
            "tags": []
          },
          "execution_count": 188
        }
      ]
    },
    {
      "cell_type": "code",
      "metadata": {
        "id": "YDg83BzDSiyA",
        "colab_type": "code",
        "colab": {}
      },
      "source": [
        "df_category = pd.DataFrame(columns = [\"encode\"])     \n",
        "df_category['encode'] = data2['catagory']"
      ],
      "execution_count": 0,
      "outputs": []
    },
    {
      "cell_type": "code",
      "metadata": {
        "id": "SEfZDqmwS7Yz",
        "colab_type": "code",
        "colab": {}
      },
      "source": [
        "#label encoder\n",
        "from sklearn.preprocessing import LabelEncoder\n",
        "dfcategory = df_category.apply(LabelEncoder().fit_transform)"
      ],
      "execution_count": 0,
      "outputs": []
    },
    {
      "cell_type": "code",
      "metadata": {
        "id": "PFjvkhrVUusi",
        "colab_type": "code",
        "outputId": "1e3e71b4-3cd9-4652-83e5-797bdd1d7f5d",
        "colab": {
          "base_uri": "https://localhost:8080/",
          "height": 204
        }
      },
      "source": [
        "dfcategory.head()"
      ],
      "execution_count": 0,
      "outputs": [
        {
          "output_type": "execute_result",
          "data": {
            "text/html": [
              "<div>\n",
              "<style scoped>\n",
              "    .dataframe tbody tr th:only-of-type {\n",
              "        vertical-align: middle;\n",
              "    }\n",
              "\n",
              "    .dataframe tbody tr th {\n",
              "        vertical-align: top;\n",
              "    }\n",
              "\n",
              "    .dataframe thead th {\n",
              "        text-align: right;\n",
              "    }\n",
              "</style>\n",
              "<table border=\"1\" class=\"dataframe\">\n",
              "  <thead>\n",
              "    <tr style=\"text-align: right;\">\n",
              "      <th></th>\n",
              "      <th>encode</th>\n",
              "    </tr>\n",
              "  </thead>\n",
              "  <tbody>\n",
              "    <tr>\n",
              "      <th>0</th>\n",
              "      <td>3</td>\n",
              "    </tr>\n",
              "    <tr>\n",
              "      <th>1</th>\n",
              "      <td>3</td>\n",
              "    </tr>\n",
              "    <tr>\n",
              "      <th>2</th>\n",
              "      <td>0</td>\n",
              "    </tr>\n",
              "    <tr>\n",
              "      <th>3</th>\n",
              "      <td>4</td>\n",
              "    </tr>\n",
              "    <tr>\n",
              "      <th>4</th>\n",
              "      <td>5</td>\n",
              "    </tr>\n",
              "  </tbody>\n",
              "</table>\n",
              "</div>"
            ],
            "text/plain": [
              "   encode\n",
              "0       3\n",
              "1       3\n",
              "2       0\n",
              "3       4\n",
              "4       5"
            ]
          },
          "metadata": {
            "tags": []
          },
          "execution_count": 191
        }
      ]
    },
    {
      "cell_type": "code",
      "metadata": {
        "id": "srDcM00FUZ1F",
        "colab_type": "code",
        "outputId": "e7838dc9-0773-4884-9357-c7ce296885fc",
        "colab": {
          "base_uri": "https://localhost:8080/",
          "height": 204
        }
      },
      "source": [
        "data2.head()"
      ],
      "execution_count": 0,
      "outputs": [
        {
          "output_type": "execute_result",
          "data": {
            "text/html": [
              "<div>\n",
              "<style scoped>\n",
              "    .dataframe tbody tr th:only-of-type {\n",
              "        vertical-align: middle;\n",
              "    }\n",
              "\n",
              "    .dataframe tbody tr th {\n",
              "        vertical-align: top;\n",
              "    }\n",
              "\n",
              "    .dataframe thead th {\n",
              "        text-align: right;\n",
              "    }\n",
              "</style>\n",
              "<table border=\"1\" class=\"dataframe\">\n",
              "  <thead>\n",
              "    <tr style=\"text-align: right;\">\n",
              "      <th></th>\n",
              "      <th>link</th>\n",
              "      <th>title</th>\n",
              "      <th>description</th>\n",
              "      <th>catagory</th>\n",
              "    </tr>\n",
              "  </thead>\n",
              "  <tbody>\n",
              "    <tr>\n",
              "      <th>0</th>\n",
              "      <td>znqkM9Ttom4</td>\n",
              "      <td>hollow metal doors manufacturing process</td>\n",
              "      <td>explains make hollow metal doors start finish ...</td>\n",
              "      <td>Manufacturing</td>\n",
              "    </tr>\n",
              "    <tr>\n",
              "      <th>1</th>\n",
              "      <td>V_Rw8hyWI</td>\n",
              "      <td>2019 honda accord manufacturing honda accord 2...</td>\n",
              "      <td>2019 honda accord manufacturing honda accord 2...</td>\n",
              "      <td>Manufacturing</td>\n",
              "    </tr>\n",
              "    <tr>\n",
              "      <th>2</th>\n",
              "      <td>fYezB4eY</td>\n",
              "      <td>amazing arts crafts</td>\n",
              "      <td>amazing arts crafts blow mind amazing videos s...</td>\n",
              "      <td>Arts and Music</td>\n",
              "    </tr>\n",
              "    <tr>\n",
              "      <th>3</th>\n",
              "      <td>j7B8ChO8XeE</td>\n",
              "      <td>introduction ibm watson studio previously call...</td>\n",
              "      <td>ready dip toes data science pool see ibm watso...</td>\n",
              "      <td>Science and Technology</td>\n",
              "    </tr>\n",
              "    <tr>\n",
              "      <th>4</th>\n",
              "      <td>dpa2Z-cRowU</td>\n",
              "      <td>traveling alone first time</td>\n",
              "      <td>stay tuned part 2 hehe hannah meloche instagra...</td>\n",
              "      <td>travel</td>\n",
              "    </tr>\n",
              "  </tbody>\n",
              "</table>\n",
              "</div>"
            ],
            "text/plain": [
              "          link  ...                catagory\n",
              "0  znqkM9Ttom4  ...           Manufacturing\n",
              "1    V_Rw8hyWI  ...           Manufacturing\n",
              "2     fYezB4eY  ...          Arts and Music\n",
              "3  j7B8ChO8XeE  ...  Science and Technology\n",
              "4  dpa2Z-cRowU  ...                  travel\n",
              "\n",
              "[5 rows x 4 columns]"
            ]
          },
          "metadata": {
            "tags": []
          },
          "execution_count": 192
        }
      ]
    },
    {
      "cell_type": "code",
      "metadata": {
        "id": "6Q5p02GrT1JO",
        "colab_type": "code",
        "outputId": "ebf0fbb2-8045-4036-be48-08f9967c4fd0",
        "colab": {
          "base_uri": "https://localhost:8080/",
          "height": 204
        }
      },
      "source": [
        "#adding Enoding column\n",
        "data3=pd.concat([data2,dfcategory], axis=1, join_axes = [data2.index])\n",
        "data3.head()"
      ],
      "execution_count": 0,
      "outputs": [
        {
          "output_type": "execute_result",
          "data": {
            "text/html": [
              "<div>\n",
              "<style scoped>\n",
              "    .dataframe tbody tr th:only-of-type {\n",
              "        vertical-align: middle;\n",
              "    }\n",
              "\n",
              "    .dataframe tbody tr th {\n",
              "        vertical-align: top;\n",
              "    }\n",
              "\n",
              "    .dataframe thead th {\n",
              "        text-align: right;\n",
              "    }\n",
              "</style>\n",
              "<table border=\"1\" class=\"dataframe\">\n",
              "  <thead>\n",
              "    <tr style=\"text-align: right;\">\n",
              "      <th></th>\n",
              "      <th>link</th>\n",
              "      <th>title</th>\n",
              "      <th>description</th>\n",
              "      <th>catagory</th>\n",
              "      <th>encode</th>\n",
              "    </tr>\n",
              "  </thead>\n",
              "  <tbody>\n",
              "    <tr>\n",
              "      <th>0</th>\n",
              "      <td>znqkM9Ttom4</td>\n",
              "      <td>hollow metal doors manufacturing process</td>\n",
              "      <td>explains make hollow metal doors start finish ...</td>\n",
              "      <td>Manufacturing</td>\n",
              "      <td>3</td>\n",
              "    </tr>\n",
              "    <tr>\n",
              "      <th>1</th>\n",
              "      <td>V_Rw8hyWI</td>\n",
              "      <td>2019 honda accord manufacturing honda accord 2...</td>\n",
              "      <td>2019 honda accord manufacturing honda accord 2...</td>\n",
              "      <td>Manufacturing</td>\n",
              "      <td>3</td>\n",
              "    </tr>\n",
              "    <tr>\n",
              "      <th>2</th>\n",
              "      <td>fYezB4eY</td>\n",
              "      <td>amazing arts crafts</td>\n",
              "      <td>amazing arts crafts blow mind amazing videos s...</td>\n",
              "      <td>Arts and Music</td>\n",
              "      <td>0</td>\n",
              "    </tr>\n",
              "    <tr>\n",
              "      <th>3</th>\n",
              "      <td>j7B8ChO8XeE</td>\n",
              "      <td>introduction ibm watson studio previously call...</td>\n",
              "      <td>ready dip toes data science pool see ibm watso...</td>\n",
              "      <td>Science and Technology</td>\n",
              "      <td>4</td>\n",
              "    </tr>\n",
              "    <tr>\n",
              "      <th>4</th>\n",
              "      <td>dpa2Z-cRowU</td>\n",
              "      <td>traveling alone first time</td>\n",
              "      <td>stay tuned part 2 hehe hannah meloche instagra...</td>\n",
              "      <td>travel</td>\n",
              "      <td>5</td>\n",
              "    </tr>\n",
              "  </tbody>\n",
              "</table>\n",
              "</div>"
            ],
            "text/plain": [
              "          link  ... encode\n",
              "0  znqkM9Ttom4  ...      3\n",
              "1    V_Rw8hyWI  ...      3\n",
              "2     fYezB4eY  ...      0\n",
              "3  j7B8ChO8XeE  ...      4\n",
              "4  dpa2Z-cRowU  ...      5\n",
              "\n",
              "[5 rows x 5 columns]"
            ]
          },
          "metadata": {
            "tags": []
          },
          "execution_count": 193
        }
      ]
    },
    {
      "cell_type": "code",
      "metadata": {
        "id": "nuCzZV2QGsDO",
        "colab_type": "code",
        "colab": {}
      },
      "source": [
        "#Bag of Words\n",
        "from sklearn.feature_extraction.text import CountVectorizer   \n",
        "cv = CountVectorizer(max_features = 2000) \n",
        "X = cv.fit_transform(data2.title,data2.description).toarray() \n",
        "Y = data3.iloc[:,4].values"
      ],
      "execution_count": 0,
      "outputs": []
    },
    {
      "cell_type": "code",
      "metadata": {
        "id": "CZ2uuKGaKUpS",
        "colab_type": "code",
        "outputId": "bc85393f-36ee-4e6d-b287-4266db0fec83",
        "colab": {
          "base_uri": "https://localhost:8080/",
          "height": 34
        }
      },
      "source": [
        "X.shape\n",
        "Y.shape"
      ],
      "execution_count": 0,
      "outputs": [
        {
          "output_type": "execute_result",
          "data": {
            "text/plain": [
              "(7057,)"
            ]
          },
          "metadata": {
            "tags": []
          },
          "execution_count": 195
        }
      ]
    },
    {
      "cell_type": "code",
      "metadata": {
        "id": "uH3LG7bfibE0",
        "colab_type": "code",
        "colab": {}
      },
      "source": [
        "from sklearn.preprocessing import label_binarize\n",
        "\n",
        "# Use label_binarize to be multi-label like settings\n",
        "Y = label_binarize(y, classes=[0, 1, 2,3,4,5])\n",
        "n_classes = Y.shape[1]"
      ],
      "execution_count": 0,
      "outputs": []
    },
    {
      "cell_type": "code",
      "metadata": {
        "id": "WVSVQLzqIuK6",
        "colab_type": "code",
        "colab": {}
      },
      "source": [
        "#splittig test train data\n",
        "from sklearn.model_selection import train_test_split\n",
        "X_train, X_test, y_train, y_test = train_test_split(X, Y, test_size = 0.20, random_state = 0)"
      ],
      "execution_count": 0,
      "outputs": []
    },
    {
      "cell_type": "code",
      "metadata": {
        "id": "gosEHH0pFIsi",
        "colab_type": "code",
        "colab": {}
      },
      "source": [
        ""
      ],
      "execution_count": 0,
      "outputs": []
    },
    {
      "cell_type": "markdown",
      "metadata": {
        "id": "kjMWDNxDmCqr",
        "colab_type": "text"
      },
      "source": [
        "##Classification using SVM"
      ]
    },
    {
      "cell_type": "code",
      "metadata": {
        "id": "L-dPruu1mOfa",
        "colab_type": "code",
        "outputId": "17b0174e-2640-43b3-bf24-84069d0caea1",
        "colab": {
          "base_uri": "https://localhost:8080/",
          "height": 85
        }
      },
      "source": [
        "from sklearn.svm import SVC\n",
        "model_svm= SVC(kernel = 'linear', random_state = 0)\n",
        "model_svm.fit(X_train, y_train)"
      ],
      "execution_count": 0,
      "outputs": [
        {
          "output_type": "execute_result",
          "data": {
            "text/plain": [
              "SVC(C=1.0, cache_size=200, class_weight=None, coef0=0.0,\n",
              "    decision_function_shape='ovr', degree=3, gamma='auto_deprecated',\n",
              "    kernel='linear', max_iter=-1, probability=False, random_state=0,\n",
              "    shrinking=True, tol=0.001, verbose=False)"
            ]
          },
          "metadata": {
            "tags": []
          },
          "execution_count": 197
        }
      ]
    },
    {
      "cell_type": "code",
      "metadata": {
        "id": "uOLfJIXXnb3E",
        "colab_type": "code",
        "colab": {}
      },
      "source": [
        "y_pred = model_svm.predict(X_test)"
      ],
      "execution_count": 0,
      "outputs": []
    },
    {
      "cell_type": "code",
      "metadata": {
        "id": "mm1jqYs_aLfN",
        "colab_type": "code",
        "outputId": "81b91153-f878-4a5a-d3fa-cea7539375ac",
        "colab": {
          "base_uri": "https://localhost:8080/",
          "height": 238
        }
      },
      "source": [
        " print(classification_report(y_test, y_pred))"
      ],
      "execution_count": 0,
      "outputs": [
        {
          "output_type": "stream",
          "text": [
            "              precision    recall  f1-score   support\n",
            "\n",
            "           0       0.97      0.95      0.96       121\n",
            "           1       0.95      0.98      0.97       411\n",
            "           2       0.95      0.97      0.96        60\n",
            "           3       0.99      0.99      0.99       288\n",
            "           4       0.99      0.97      0.98       332\n",
            "           5       0.95      0.96      0.96       200\n",
            "\n",
            "    accuracy                           0.97      1412\n",
            "   macro avg       0.97      0.97      0.97      1412\n",
            "weighted avg       0.97      0.97      0.97      1412\n",
            "\n"
          ],
          "name": "stdout"
        }
      ]
    },
    {
      "cell_type": "markdown",
      "metadata": {
        "id": "f6_j3rP2hM7o",
        "colab_type": "text"
      },
      "source": [
        "So, here we can see each value for different target labels  all are above 90 % which is good."
      ]
    },
    {
      "cell_type": "code",
      "metadata": {
        "id": "_TBbll_6njdd",
        "colab_type": "code",
        "outputId": "d93fbfbf-96c9-4b29-f82b-2a59cb573a11",
        "colab": {
          "base_uri": "https://localhost:8080/",
          "height": 34
        }
      },
      "source": [
        "model_svm.score(X_test, y_test)"
      ],
      "execution_count": 0,
      "outputs": [
        {
          "output_type": "execute_result",
          "data": {
            "text/plain": [
              "0.9723796033994334"
            ]
          },
          "metadata": {
            "tags": []
          },
          "execution_count": 200
        }
      ]
    },
    {
      "cell_type": "code",
      "metadata": {
        "id": "Pm8C7928b-Tx",
        "colab_type": "code",
        "outputId": "754bed23-f0e4-45ca-88a6-c77959215d9a",
        "colab": {
          "base_uri": "https://localhost:8080/",
          "height": 238
        }
      },
      "source": [
        "print(classification_report(y_test, y_pred))"
      ],
      "execution_count": 0,
      "outputs": [
        {
          "output_type": "stream",
          "text": [
            "              precision    recall  f1-score   support\n",
            "\n",
            "           0       0.99      0.95      0.97       121\n",
            "           1       0.99      0.95      0.97       411\n",
            "           2       0.97      0.97      0.97        60\n",
            "           3       0.90      1.00      0.94       288\n",
            "           4       0.99      0.95      0.97       332\n",
            "           5       0.96      0.96      0.96       200\n",
            "\n",
            "    accuracy                           0.96      1412\n",
            "   macro avg       0.97      0.96      0.96      1412\n",
            "weighted avg       0.97      0.96      0.96      1412\n",
            "\n"
          ],
          "name": "stdout"
        }
      ]
    },
    {
      "cell_type": "markdown",
      "metadata": {
        "id": "5clnALVtmPRl",
        "colab_type": "text"
      },
      "source": [
        "##Classification using Xgboost"
      ]
    },
    {
      "cell_type": "code",
      "metadata": {
        "id": "-AfL0_W1maFV",
        "colab_type": "code",
        "outputId": "832b0534-cf41-49f5-c743-67f9887dba5a",
        "colab": {
          "base_uri": "https://localhost:8080/",
          "height": 136
        }
      },
      "source": [
        "from xgboost import XGBClassifier\n",
        "model_boost = XGBClassifier()\n",
        "model_boost.fit(X_train, y_train)"
      ],
      "execution_count": 0,
      "outputs": [
        {
          "output_type": "execute_result",
          "data": {
            "text/plain": [
              "XGBClassifier(base_score=0.5, booster='gbtree', colsample_bylevel=1,\n",
              "              colsample_bynode=1, colsample_bytree=1, gamma=0,\n",
              "              learning_rate=0.1, max_delta_step=0, max_depth=3,\n",
              "              min_child_weight=1, missing=None, n_estimators=100, n_jobs=1,\n",
              "              nthread=None, objective='multi:softprob', random_state=0,\n",
              "              reg_alpha=0, reg_lambda=1, scale_pos_weight=1, seed=None,\n",
              "              silent=None, subsample=1, verbosity=1)"
            ]
          },
          "metadata": {
            "tags": []
          },
          "execution_count": 202
        }
      ]
    },
    {
      "cell_type": "code",
      "metadata": {
        "id": "Iwiz_bHKqZ8Q",
        "colab_type": "code",
        "colab": {}
      },
      "source": [
        "y_pred = model_boost.predict(X_test)"
      ],
      "execution_count": 0,
      "outputs": []
    },
    {
      "cell_type": "code",
      "metadata": {
        "id": "EuLBhnIKqZwP",
        "colab_type": "code",
        "outputId": "b779dc7e-f3be-4aff-91e1-d0edcb029b1e",
        "colab": {
          "base_uri": "https://localhost:8080/",
          "height": 34
        }
      },
      "source": [
        "model_boost.score(X_test, y_test)"
      ],
      "execution_count": 0,
      "outputs": [
        {
          "output_type": "execute_result",
          "data": {
            "text/plain": [
              "0.9631728045325779"
            ]
          },
          "metadata": {
            "tags": []
          },
          "execution_count": 204
        }
      ]
    },
    {
      "cell_type": "code",
      "metadata": {
        "id": "-YGckkGqqd7E",
        "colab_type": "code",
        "outputId": "97b3062d-4168-47f2-bae0-5f2faad969b3",
        "colab": {
          "base_uri": "https://localhost:8080/",
          "height": 238
        }
      },
      "source": [
        " print(classification_report(y_test, y_pred))"
      ],
      "execution_count": 0,
      "outputs": [
        {
          "output_type": "stream",
          "text": [
            "              precision    recall  f1-score   support\n",
            "\n",
            "           0       0.99      0.95      0.97       121\n",
            "           1       0.99      0.95      0.97       411\n",
            "           2       0.97      0.97      0.97        60\n",
            "           3       0.90      1.00      0.94       288\n",
            "           4       0.99      0.95      0.97       332\n",
            "           5       0.96      0.96      0.96       200\n",
            "\n",
            "    accuracy                           0.96      1412\n",
            "   macro avg       0.97      0.96      0.96      1412\n",
            "weighted avg       0.97      0.96      0.96      1412\n",
            "\n"
          ],
          "name": "stdout"
        }
      ]
    },
    {
      "cell_type": "code",
      "metadata": {
        "id": "nDDe4SD3agml",
        "colab_type": "code",
        "outputId": "260ee711-0f4d-424b-d213-0792e92155bb",
        "colab": {
          "base_uri": "https://localhost:8080/",
          "height": 231
        }
      },
      "source": [
        "from sklearn.metrics import precision_recall_curve\n",
        "from sklearn.metrics import average_precision_score\n",
        "\n",
        "# For each class\n",
        "precision = dict()\n",
        "recall = dict()\n",
        "average_precision = dict()\n",
        "for i in range(n_classes):\n",
        "    precision[i], recall[i] = precision_recall_curve(y_test[:, i],\n",
        "                                                        y_score[:, i])\n",
        "    average_precision[i] = average_precision_score(Y_test[:, i], y_score[:, i])\n",
        "\n",
        "# A \"micro-average\": quantifying score on all classes jointly\n",
        "precision[\"micro\"], recall[\"micro\"], _ = precision_recall_curve(Y_test.ravel(),\n",
        "    y_score.ravel())\n",
        "average_precision[\"micro\"] = average_precision_score(Y_test, y_score,\n",
        "                                                     average=\"micro\")\n",
        "print('Average precision score, micro-averaged over all classes: {0:0.2f}'\n",
        "      .format(average_precision[\"micro\"]))"
      ],
      "execution_count": 234,
      "outputs": [
        {
          "output_type": "error",
          "ename": "IndexError",
          "evalue": "ignored",
          "traceback": [
            "\u001b[0;31m---------------------------------------------------------------------------\u001b[0m",
            "\u001b[0;31mIndexError\u001b[0m                                Traceback (most recent call last)",
            "\u001b[0;32m<ipython-input-234-07f7adf0d079>\u001b[0m in \u001b[0;36m<module>\u001b[0;34m()\u001b[0m\n\u001b[1;32m      7\u001b[0m \u001b[0maverage_precision\u001b[0m \u001b[0;34m=\u001b[0m \u001b[0mdict\u001b[0m\u001b[0;34m(\u001b[0m\u001b[0;34m)\u001b[0m\u001b[0;34m\u001b[0m\u001b[0;34m\u001b[0m\u001b[0m\n\u001b[1;32m      8\u001b[0m \u001b[0;32mfor\u001b[0m \u001b[0mi\u001b[0m \u001b[0;32min\u001b[0m \u001b[0mrange\u001b[0m\u001b[0;34m(\u001b[0m\u001b[0mn_classes\u001b[0m\u001b[0;34m)\u001b[0m\u001b[0;34m:\u001b[0m\u001b[0;34m\u001b[0m\u001b[0;34m\u001b[0m\u001b[0m\n\u001b[0;32m----> 9\u001b[0;31m     precision[i], recall[i] = precision_recall_curve(y_test[:, i],\n\u001b[0m\u001b[1;32m     10\u001b[0m                                                         y_score[:, i])\n\u001b[1;32m     11\u001b[0m     \u001b[0maverage_precision\u001b[0m\u001b[0;34m[\u001b[0m\u001b[0mi\u001b[0m\u001b[0;34m]\u001b[0m \u001b[0;34m=\u001b[0m \u001b[0maverage_precision_score\u001b[0m\u001b[0;34m(\u001b[0m\u001b[0mY_test\u001b[0m\u001b[0;34m[\u001b[0m\u001b[0;34m:\u001b[0m\u001b[0;34m,\u001b[0m \u001b[0mi\u001b[0m\u001b[0;34m]\u001b[0m\u001b[0;34m,\u001b[0m \u001b[0my_score\u001b[0m\u001b[0;34m[\u001b[0m\u001b[0;34m:\u001b[0m\u001b[0;34m,\u001b[0m \u001b[0mi\u001b[0m\u001b[0;34m]\u001b[0m\u001b[0;34m)\u001b[0m\u001b[0;34m\u001b[0m\u001b[0;34m\u001b[0m\u001b[0m\n",
            "\u001b[0;31mIndexError\u001b[0m: too many indices for array"
          ]
        }
      ]
    },
    {
      "cell_type": "markdown",
      "metadata": {
        "id": "AtDLLKRSmbDz",
        "colab_type": "text"
      },
      "source": [
        "\n",
        "##Clasification using  LSTM"
      ]
    },
    {
      "cell_type": "code",
      "metadata": {
        "id": "Swp-vqgTmkeE",
        "colab_type": "code",
        "outputId": "59a07ad8-064d-46a4-c1ac-070b2ae3ad86",
        "colab": {
          "base_uri": "https://localhost:8080/",
          "height": 289
        }
      },
      "source": [
        "#making two text column as one input column\n",
        "\n",
        "data3['combined'] = data3[['title', 'description']].apply(lambda x: ' '.join(x), axis=1)\n",
        "#y = data3[\"encode\"].values\n",
        "#list_sentences_train = train[\"comment_text\"]\n",
        "#list_sentences_test = test[\"comment_text\"]\n",
        "data3.head()"
      ],
      "execution_count": 0,
      "outputs": [
        {
          "output_type": "execute_result",
          "data": {
            "text/html": [
              "<div>\n",
              "<style scoped>\n",
              "    .dataframe tbody tr th:only-of-type {\n",
              "        vertical-align: middle;\n",
              "    }\n",
              "\n",
              "    .dataframe tbody tr th {\n",
              "        vertical-align: top;\n",
              "    }\n",
              "\n",
              "    .dataframe thead th {\n",
              "        text-align: right;\n",
              "    }\n",
              "</style>\n",
              "<table border=\"1\" class=\"dataframe\">\n",
              "  <thead>\n",
              "    <tr style=\"text-align: right;\">\n",
              "      <th></th>\n",
              "      <th>link</th>\n",
              "      <th>title</th>\n",
              "      <th>description</th>\n",
              "      <th>catagory</th>\n",
              "      <th>encode</th>\n",
              "      <th>combined</th>\n",
              "    </tr>\n",
              "  </thead>\n",
              "  <tbody>\n",
              "    <tr>\n",
              "      <th>0</th>\n",
              "      <td>znqkM9Ttom4</td>\n",
              "      <td>hollow metal doors manufacturing process</td>\n",
              "      <td>explains make hollow metal doors start finish ...</td>\n",
              "      <td>Manufacturing</td>\n",
              "      <td>3</td>\n",
              "      <td>hollow metal doors manufacturing process expla...</td>\n",
              "    </tr>\n",
              "    <tr>\n",
              "      <th>1</th>\n",
              "      <td>V_Rw8hyWI</td>\n",
              "      <td>2019 honda accord manufacturing honda accord 2...</td>\n",
              "      <td>2019 honda accord manufacturing honda accord 2...</td>\n",
              "      <td>Manufacturing</td>\n",
              "      <td>3</td>\n",
              "      <td>2019 honda accord manufacturing honda accord 2...</td>\n",
              "    </tr>\n",
              "    <tr>\n",
              "      <th>2</th>\n",
              "      <td>fYezB4eY</td>\n",
              "      <td>amazing arts crafts</td>\n",
              "      <td>amazing arts crafts blow mind amazing videos s...</td>\n",
              "      <td>Arts and Music</td>\n",
              "      <td>0</td>\n",
              "      <td>amazing arts crafts amazing arts crafts blow m...</td>\n",
              "    </tr>\n",
              "    <tr>\n",
              "      <th>3</th>\n",
              "      <td>j7B8ChO8XeE</td>\n",
              "      <td>introduction ibm watson studio previously call...</td>\n",
              "      <td>ready dip toes data science pool see ibm watso...</td>\n",
              "      <td>Science and Technology</td>\n",
              "      <td>4</td>\n",
              "      <td>introduction ibm watson studio previously call...</td>\n",
              "    </tr>\n",
              "    <tr>\n",
              "      <th>4</th>\n",
              "      <td>dpa2Z-cRowU</td>\n",
              "      <td>traveling alone first time</td>\n",
              "      <td>stay tuned part 2 hehe hannah meloche instagra...</td>\n",
              "      <td>travel</td>\n",
              "      <td>5</td>\n",
              "      <td>traveling alone first time stay tuned part 2 h...</td>\n",
              "    </tr>\n",
              "  </tbody>\n",
              "</table>\n",
              "</div>"
            ],
            "text/plain": [
              "          link  ...                                           combined\n",
              "0  znqkM9Ttom4  ...  hollow metal doors manufacturing process expla...\n",
              "1    V_Rw8hyWI  ...  2019 honda accord manufacturing honda accord 2...\n",
              "2     fYezB4eY  ...  amazing arts crafts amazing arts crafts blow m...\n",
              "3  j7B8ChO8XeE  ...  introduction ibm watson studio previously call...\n",
              "4  dpa2Z-cRowU  ...  traveling alone first time stay tuned part 2 h...\n",
              "\n",
              "[5 rows x 6 columns]"
            ]
          },
          "metadata": {
            "tags": []
          },
          "execution_count": 207
        }
      ]
    },
    {
      "cell_type": "code",
      "metadata": {
        "id": "qG9sJqAhn473",
        "colab_type": "code",
        "outputId": "f59a53a9-2dcd-4d83-e8f7-532da6b102a8",
        "colab": {
          "base_uri": "https://localhost:8080/",
          "height": 204
        }
      },
      "source": [
        "one_hot= pd.get_dummies(data3.catagory)\n",
        "one_hot.head()"
      ],
      "execution_count": 0,
      "outputs": [
        {
          "output_type": "execute_result",
          "data": {
            "text/html": [
              "<div>\n",
              "<style scoped>\n",
              "    .dataframe tbody tr th:only-of-type {\n",
              "        vertical-align: middle;\n",
              "    }\n",
              "\n",
              "    .dataframe tbody tr th {\n",
              "        vertical-align: top;\n",
              "    }\n",
              "\n",
              "    .dataframe thead th {\n",
              "        text-align: right;\n",
              "    }\n",
              "</style>\n",
              "<table border=\"1\" class=\"dataframe\">\n",
              "  <thead>\n",
              "    <tr style=\"text-align: right;\">\n",
              "      <th></th>\n",
              "      <th>Arts and Music</th>\n",
              "      <th>Food</th>\n",
              "      <th>History</th>\n",
              "      <th>Manufacturing</th>\n",
              "      <th>Science and Technology</th>\n",
              "      <th>travel</th>\n",
              "    </tr>\n",
              "  </thead>\n",
              "  <tbody>\n",
              "    <tr>\n",
              "      <th>0</th>\n",
              "      <td>0</td>\n",
              "      <td>0</td>\n",
              "      <td>0</td>\n",
              "      <td>1</td>\n",
              "      <td>0</td>\n",
              "      <td>0</td>\n",
              "    </tr>\n",
              "    <tr>\n",
              "      <th>1</th>\n",
              "      <td>0</td>\n",
              "      <td>0</td>\n",
              "      <td>0</td>\n",
              "      <td>1</td>\n",
              "      <td>0</td>\n",
              "      <td>0</td>\n",
              "    </tr>\n",
              "    <tr>\n",
              "      <th>2</th>\n",
              "      <td>1</td>\n",
              "      <td>0</td>\n",
              "      <td>0</td>\n",
              "      <td>0</td>\n",
              "      <td>0</td>\n",
              "      <td>0</td>\n",
              "    </tr>\n",
              "    <tr>\n",
              "      <th>3</th>\n",
              "      <td>0</td>\n",
              "      <td>0</td>\n",
              "      <td>0</td>\n",
              "      <td>0</td>\n",
              "      <td>1</td>\n",
              "      <td>0</td>\n",
              "    </tr>\n",
              "    <tr>\n",
              "      <th>4</th>\n",
              "      <td>0</td>\n",
              "      <td>0</td>\n",
              "      <td>0</td>\n",
              "      <td>0</td>\n",
              "      <td>0</td>\n",
              "      <td>1</td>\n",
              "    </tr>\n",
              "  </tbody>\n",
              "</table>\n",
              "</div>"
            ],
            "text/plain": [
              "   Arts and Music  Food  History  Manufacturing  Science and Technology  travel\n",
              "0               0     0        0              1                       0       0\n",
              "1               0     0        0              1                       0       0\n",
              "2               1     0        0              0                       0       0\n",
              "3               0     0        0              0                       1       0\n",
              "4               0     0        0              0                       0       1"
            ]
          },
          "metadata": {
            "tags": []
          },
          "execution_count": 208
        }
      ]
    },
    {
      "cell_type": "code",
      "metadata": {
        "id": "0CIv_d1vkP3G",
        "colab_type": "code",
        "outputId": "cb5d7dcf-11bd-40e5-9291-9a9e441d565f",
        "colab": {
          "base_uri": "https://localhost:8080/",
          "height": 408
        }
      },
      "source": [
        "data3=pd.concat([data3,one_hot], axis=1, join_axes = [data2.index])\n",
        "data3.head()\n",
        "#y = data3[\"encode\"].values\n",
        "#list_sentences_train = data3[\"combined\"]\n",
        "#list_sentences_test = test[\"comment_text\"]"
      ],
      "execution_count": 0,
      "outputs": [
        {
          "output_type": "execute_result",
          "data": {
            "text/html": [
              "<div>\n",
              "<style scoped>\n",
              "    .dataframe tbody tr th:only-of-type {\n",
              "        vertical-align: middle;\n",
              "    }\n",
              "\n",
              "    .dataframe tbody tr th {\n",
              "        vertical-align: top;\n",
              "    }\n",
              "\n",
              "    .dataframe thead th {\n",
              "        text-align: right;\n",
              "    }\n",
              "</style>\n",
              "<table border=\"1\" class=\"dataframe\">\n",
              "  <thead>\n",
              "    <tr style=\"text-align: right;\">\n",
              "      <th></th>\n",
              "      <th>link</th>\n",
              "      <th>title</th>\n",
              "      <th>description</th>\n",
              "      <th>catagory</th>\n",
              "      <th>encode</th>\n",
              "      <th>combined</th>\n",
              "      <th>Arts and Music</th>\n",
              "      <th>Food</th>\n",
              "      <th>History</th>\n",
              "      <th>Manufacturing</th>\n",
              "      <th>Science and Technology</th>\n",
              "      <th>travel</th>\n",
              "    </tr>\n",
              "  </thead>\n",
              "  <tbody>\n",
              "    <tr>\n",
              "      <th>0</th>\n",
              "      <td>znqkM9Ttom4</td>\n",
              "      <td>hollow metal doors manufacturing process</td>\n",
              "      <td>explains make hollow metal doors start finish ...</td>\n",
              "      <td>Manufacturing</td>\n",
              "      <td>3</td>\n",
              "      <td>hollow metal doors manufacturing process expla...</td>\n",
              "      <td>0</td>\n",
              "      <td>0</td>\n",
              "      <td>0</td>\n",
              "      <td>1</td>\n",
              "      <td>0</td>\n",
              "      <td>0</td>\n",
              "    </tr>\n",
              "    <tr>\n",
              "      <th>1</th>\n",
              "      <td>V_Rw8hyWI</td>\n",
              "      <td>2019 honda accord manufacturing honda accord 2...</td>\n",
              "      <td>2019 honda accord manufacturing honda accord 2...</td>\n",
              "      <td>Manufacturing</td>\n",
              "      <td>3</td>\n",
              "      <td>2019 honda accord manufacturing honda accord 2...</td>\n",
              "      <td>0</td>\n",
              "      <td>0</td>\n",
              "      <td>0</td>\n",
              "      <td>1</td>\n",
              "      <td>0</td>\n",
              "      <td>0</td>\n",
              "    </tr>\n",
              "    <tr>\n",
              "      <th>2</th>\n",
              "      <td>fYezB4eY</td>\n",
              "      <td>amazing arts crafts</td>\n",
              "      <td>amazing arts crafts blow mind amazing videos s...</td>\n",
              "      <td>Arts and Music</td>\n",
              "      <td>0</td>\n",
              "      <td>amazing arts crafts amazing arts crafts blow m...</td>\n",
              "      <td>1</td>\n",
              "      <td>0</td>\n",
              "      <td>0</td>\n",
              "      <td>0</td>\n",
              "      <td>0</td>\n",
              "      <td>0</td>\n",
              "    </tr>\n",
              "    <tr>\n",
              "      <th>3</th>\n",
              "      <td>j7B8ChO8XeE</td>\n",
              "      <td>introduction ibm watson studio previously call...</td>\n",
              "      <td>ready dip toes data science pool see ibm watso...</td>\n",
              "      <td>Science and Technology</td>\n",
              "      <td>4</td>\n",
              "      <td>introduction ibm watson studio previously call...</td>\n",
              "      <td>0</td>\n",
              "      <td>0</td>\n",
              "      <td>0</td>\n",
              "      <td>0</td>\n",
              "      <td>1</td>\n",
              "      <td>0</td>\n",
              "    </tr>\n",
              "    <tr>\n",
              "      <th>4</th>\n",
              "      <td>dpa2Z-cRowU</td>\n",
              "      <td>traveling alone first time</td>\n",
              "      <td>stay tuned part 2 hehe hannah meloche instagra...</td>\n",
              "      <td>travel</td>\n",
              "      <td>5</td>\n",
              "      <td>traveling alone first time stay tuned part 2 h...</td>\n",
              "      <td>0</td>\n",
              "      <td>0</td>\n",
              "      <td>0</td>\n",
              "      <td>0</td>\n",
              "      <td>0</td>\n",
              "      <td>1</td>\n",
              "    </tr>\n",
              "  </tbody>\n",
              "</table>\n",
              "</div>"
            ],
            "text/plain": [
              "          link  ... travel\n",
              "0  znqkM9Ttom4  ...      0\n",
              "1    V_Rw8hyWI  ...      0\n",
              "2     fYezB4eY  ...      0\n",
              "3  j7B8ChO8XeE  ...      0\n",
              "4  dpa2Z-cRowU  ...      1\n",
              "\n",
              "[5 rows x 12 columns]"
            ]
          },
          "metadata": {
            "tags": []
          },
          "execution_count": 209
        }
      ]
    },
    {
      "cell_type": "code",
      "metadata": {
        "id": "Rx6vifWFovTE",
        "colab_type": "code",
        "colab": {}
      },
      "source": [
        "list_classes = [\"Arts and Music\", \"Food\", \"History\", \"Manufacturing\", \"Science and Technology\",\"travel\"]\n",
        "y = data3[list_classes].values\n",
        "list_sentences_train = data3[\"combined\"]"
      ],
      "execution_count": 0,
      "outputs": []
    },
    {
      "cell_type": "code",
      "metadata": {
        "id": "Sx4AN-ZwfdE9",
        "colab_type": "code",
        "colab": {}
      },
      "source": [
        "max_features = 20000\n",
        "tokenizer = Tokenizer(num_words=max_features)\n",
        "tokenizer.fit_on_texts(list(list_sentences_train))\n",
        "list_tokenized_train = tokenizer.texts_to_sequences(list_sentences_train)\n",
        "#list_tokenized_test = tokenizer.texts_to_sequences(list_sentences_test)"
      ],
      "execution_count": 0,
      "outputs": []
    },
    {
      "cell_type": "code",
      "metadata": {
        "id": "j5sVH9YoflIZ",
        "colab_type": "code",
        "colab": {}
      },
      "source": [
        "maxlen = 200\n",
        "X_t = pad_sequences(list_tokenized_train, maxlen=maxlen)\n",
        "#X_te = pad_sequences(list_tokenized_test, maxlen=maxlen)"
      ],
      "execution_count": 0,
      "outputs": []
    },
    {
      "cell_type": "code",
      "metadata": {
        "id": "RYd0ybIafgnn",
        "colab_type": "code",
        "outputId": "7be60867-f164-440d-c862-0cabbd64fc11",
        "colab": {
          "base_uri": "https://localhost:8080/",
          "height": 306
        }
      },
      "source": [
        "list_tokenized_train[:1]"
      ],
      "execution_count": 0,
      "outputs": [
        {
          "output_type": "execute_result",
          "data": {
            "text/plain": [
              "[[5222,\n",
              "  1277,\n",
              "  3417,\n",
              "  23,\n",
              "  54,\n",
              "  1591,\n",
              "  24,\n",
              "  5222,\n",
              "  1277,\n",
              "  3417,\n",
              "  162,\n",
              "  2230,\n",
              "  451,\n",
              "  280,\n",
              "  23,\n",
              "  54,\n",
              "  17074]]"
            ]
          },
          "metadata": {
            "tags": []
          },
          "execution_count": 213
        }
      ]
    },
    {
      "cell_type": "code",
      "metadata": {
        "id": "pXvmY-ddftHp",
        "colab_type": "code",
        "colab": {}
      },
      "source": [
        "inp = Input(shape=(maxlen, ))"
      ],
      "execution_count": 0,
      "outputs": []
    },
    {
      "cell_type": "code",
      "metadata": {
        "id": "orkHq5BCfum6",
        "colab_type": "code",
        "colab": {}
      },
      "source": [
        "embed_size = 128\n",
        "x = Embedding(max_features, embed_size)(inp)"
      ],
      "execution_count": 0,
      "outputs": []
    },
    {
      "cell_type": "code",
      "metadata": {
        "id": "mtD-qirsfycS",
        "colab_type": "code",
        "colab": {}
      },
      "source": [
        "x = LSTM(60, return_sequences=True,name='lstm_layer')(x)"
      ],
      "execution_count": 0,
      "outputs": []
    },
    {
      "cell_type": "code",
      "metadata": {
        "id": "5wtB3kBtf22a",
        "colab_type": "code",
        "colab": {}
      },
      "source": [
        "x = GlobalMaxPool1D()(x)"
      ],
      "execution_count": 0,
      "outputs": []
    },
    {
      "cell_type": "code",
      "metadata": {
        "id": "THGvGkY3f6et",
        "colab_type": "code",
        "colab": {}
      },
      "source": [
        "x = Dropout(0.1)(x)"
      ],
      "execution_count": 0,
      "outputs": []
    },
    {
      "cell_type": "code",
      "metadata": {
        "id": "WaCJsL6Ef_Zg",
        "colab_type": "code",
        "colab": {}
      },
      "source": [
        "x = Dense(50, activation=\"relu\")(x)"
      ],
      "execution_count": 0,
      "outputs": []
    },
    {
      "cell_type": "code",
      "metadata": {
        "id": "TSngw1pwgAb1",
        "colab_type": "code",
        "colab": {}
      },
      "source": [
        "x = Dropout(0.1)(x)"
      ],
      "execution_count": 0,
      "outputs": []
    },
    {
      "cell_type": "code",
      "metadata": {
        "id": "62erEgargGLi",
        "colab_type": "code",
        "colab": {}
      },
      "source": [
        "x = Dense(6, activation=\"sigmoid\")(x)"
      ],
      "execution_count": 0,
      "outputs": []
    },
    {
      "cell_type": "code",
      "metadata": {
        "id": "JOqpLsmfgHKj",
        "colab_type": "code",
        "colab": {}
      },
      "source": [
        "model = Model(inputs=inp, outputs=x)\n",
        "model.compile(loss='binary_crossentropy',\n",
        "                  optimizer='adam',\n",
        "                  metrics=['accuracy'])"
      ],
      "execution_count": 0,
      "outputs": []
    },
    {
      "cell_type": "code",
      "metadata": {
        "id": "V_Xl7OvigL5S",
        "colab_type": "code",
        "outputId": "327fdf1c-3978-47a9-9473-c38164c8077e",
        "colab": {
          "base_uri": "https://localhost:8080/",
          "height": 306
        }
      },
      "source": [
        "batch_size = 32\n",
        "epochs = 8\n",
        "history=model.fit(X_t,y, batch_size=batch_size, epochs=epochs, validation_split=0.3)\n"
      ],
      "execution_count": 0,
      "outputs": [
        {
          "output_type": "stream",
          "text": [
            "Train on 4939 samples, validate on 2118 samples\n",
            "Epoch 1/8\n",
            "4939/4939 [==============================] - 50s 10ms/step - loss: 0.4586 - acc: 0.7978 - val_loss: 0.3476 - val_acc: 0.8608\n",
            "Epoch 2/8\n",
            "4939/4939 [==============================] - 49s 10ms/step - loss: 0.2506 - acc: 0.9025 - val_loss: 0.1547 - val_acc: 0.9503\n",
            "Epoch 3/8\n",
            "4939/4939 [==============================] - 49s 10ms/step - loss: 0.1103 - acc: 0.9656 - val_loss: 0.0783 - val_acc: 0.9742\n",
            "Epoch 4/8\n",
            "4939/4939 [==============================] - 49s 10ms/step - loss: 0.0495 - acc: 0.9853 - val_loss: 0.0534 - val_acc: 0.9847\n",
            "Epoch 5/8\n",
            "4939/4939 [==============================] - 49s 10ms/step - loss: 0.0276 - acc: 0.9931 - val_loss: 0.0460 - val_acc: 0.9862\n",
            "Epoch 6/8\n",
            "4939/4939 [==============================] - 49s 10ms/step - loss: 0.0250 - acc: 0.9928 - val_loss: 0.0410 - val_acc: 0.9878\n",
            "Epoch 7/8\n",
            "4939/4939 [==============================] - 49s 10ms/step - loss: 0.0137 - acc: 0.9964 - val_loss: 0.0400 - val_acc: 0.9884\n",
            "Epoch 8/8\n",
            "4939/4939 [==============================] - 49s 10ms/step - loss: 0.0091 - acc: 0.9976 - val_loss: 0.0433 - val_acc: 0.9871\n"
          ],
          "name": "stdout"
        }
      ]
    },
    {
      "cell_type": "markdown",
      "metadata": {
        "id": "f1u4IJEfgpKk",
        "colab_type": "text"
      },
      "source": [
        "So here we can see that when  we use LSTM we are getting very high accuracythan the other two non neural network algorithms."
      ]
    },
    {
      "cell_type": "code",
      "metadata": {
        "id": "kUlGaANPgP-S",
        "colab_type": "code",
        "outputId": "3790c848-e999-497b-b7fa-244b69840669",
        "colab": {
          "base_uri": "https://localhost:8080/",
          "height": 545
        }
      },
      "source": [
        "import matplotlib.pyplot as plt\n",
        "acc = history.history['acc']\n",
        "val_acc = history.history['val_acc']\n",
        "loss = history.history['loss']\n",
        "val_loss = history.history['val_loss']\n",
        "epochs = range(1, len(acc) + 1)\n",
        "plt.plot(epochs, acc, 'bo', label='Training acc')\n",
        "plt.plot(epochs, val_acc, 'b', label='Validation acc')\n",
        "plt.title('Training and validation accuracy')\n",
        "plt.legend()\n",
        "plt.figure()\n",
        "plt.plot(epochs, loss, 'bo', label='Training loss')\n",
        "plt.plot(epochs, val_loss, 'b', label='Validation loss')\n",
        "plt.title('Training and validation loss')\n",
        "plt.legend()\n",
        "plt.show()"
      ],
      "execution_count": 0,
      "outputs": [
        {
          "output_type": "display_data",
          "data": {
            "image/png": "[encoded data removed]",
            "text/plain": [
              "<Figure size 432x288 with 1 Axes>"
            ]
          },
          "metadata": {
            "tags": []
          }
        },
        {
          "output_type": "display_data",
          "data": {
            "image/png": "[encoded data removed]",
            "text/plain": [
              "<Figure size 432x288 with 1 Axes>"
            ]
          },
          "metadata": {
            "tags": []
          }
        }
      ]
    },
    {
      "cell_type": "markdown",
      "metadata": {
        "id": "Mi0nvzrig8VV",
        "colab_type": "text"
      },
      "source": [
        "trainig and validation set both are approching same amount of accuracy and error so no chance of over fitting and under fitting."
      ]
    },
    {
      "cell_type": "code",
      "metadata": {
        "id": "2O9Z4msZgP8m",
        "colab_type": "code",
        "colab": {}
      },
      "source": [
        ""
      ],
      "execution_count": 0,
      "outputs": []
    }
  ]
}